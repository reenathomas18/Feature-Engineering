{
 "cells": [
  {
   "cell_type": "raw",
   "metadata": {},
   "source": [
    "# Goal - Discuss and implement other Feature Elimination techniques\n",
    "- Correlation Analysis\n",
    "- RFE\n",
    "- SBM\n",
    "- ANOVA"
   ]
  },
  {
   "cell_type": "code",
   "execution_count": 2,
   "metadata": {},
   "outputs": [],
   "source": [
    "import pandas as pd\n",
    "import numpy as np"
   ]
  },
  {
   "cell_type": "code",
   "execution_count": 3,
   "metadata": {},
   "outputs": [],
   "source": [
    "data = pd.read_csv('50_Startups.csv')"
   ]
  },
  {
   "cell_type": "code",
   "execution_count": 11,
   "metadata": {},
   "outputs": [
    {
     "data": {
      "text/html": [
       "<div>\n",
       "<style scoped>\n",
       "    .dataframe tbody tr th:only-of-type {\n",
       "        vertical-align: middle;\n",
       "    }\n",
       "\n",
       "    .dataframe tbody tr th {\n",
       "        vertical-align: top;\n",
       "    }\n",
       "\n",
       "    .dataframe thead th {\n",
       "        text-align: right;\n",
       "    }\n",
       "</style>\n",
       "<table border=\"1\" class=\"dataframe\">\n",
       "  <thead>\n",
       "    <tr style=\"text-align: right;\">\n",
       "      <th></th>\n",
       "      <th>R&amp;D Spend</th>\n",
       "      <th>Administration</th>\n",
       "      <th>Marketing Spend</th>\n",
       "      <th>Profit</th>\n",
       "    </tr>\n",
       "  </thead>\n",
       "  <tbody>\n",
       "    <tr>\n",
       "      <td>R&amp;D Spend</td>\n",
       "      <td>1.000000</td>\n",
       "      <td>0.241955</td>\n",
       "      <td>0.724248</td>\n",
       "      <td>0.972900</td>\n",
       "    </tr>\n",
       "    <tr>\n",
       "      <td>Administration</td>\n",
       "      <td>0.241955</td>\n",
       "      <td>1.000000</td>\n",
       "      <td>-0.032154</td>\n",
       "      <td>0.200717</td>\n",
       "    </tr>\n",
       "    <tr>\n",
       "      <td>Marketing Spend</td>\n",
       "      <td>0.724248</td>\n",
       "      <td>-0.032154</td>\n",
       "      <td>1.000000</td>\n",
       "      <td>0.747766</td>\n",
       "    </tr>\n",
       "    <tr>\n",
       "      <td>Profit</td>\n",
       "      <td>0.972900</td>\n",
       "      <td>0.200717</td>\n",
       "      <td>0.747766</td>\n",
       "      <td>1.000000</td>\n",
       "    </tr>\n",
       "  </tbody>\n",
       "</table>\n",
       "</div>"
      ],
      "text/plain": [
       "                 R&D Spend  Administration  Marketing Spend    Profit\n",
       "R&D Spend         1.000000        0.241955         0.724248  0.972900\n",
       "Administration    0.241955        1.000000        -0.032154  0.200717\n",
       "Marketing Spend   0.724248       -0.032154         1.000000  0.747766\n",
       "Profit            0.972900        0.200717         0.747766  1.000000"
      ]
     },
     "execution_count": 11,
     "metadata": {},
     "output_type": "execute_result"
    }
   ],
   "source": [
    "finalData = pd.concat([pd.get_dummies(data.State),data.iloc[:,[0,1,2,4]]] , axis=1)\n",
    "finalData.head()\n",
    "data.corr()"
   ]
  },
  {
   "cell_type": "code",
   "execution_count": 6,
   "metadata": {},
   "outputs": [],
   "source": [
    "features = finalData.iloc[:,:-1].values\n",
    "label = finalData.iloc[:,[-1]].values"
   ]
  },
  {
   "cell_type": "markdown",
   "metadata": {},
   "source": [
    "# Method 1 - Correlation Analysis"
   ]
  },
  {
   "cell_type": "code",
   "execution_count": 7,
   "metadata": {},
   "outputs": [],
   "source": [
    "# Some Suggestions by Prashant Nair\n",
    "# 1. Correlation Analysis is only applicable for Numeric Columns at Dataset level\n",
    "# 2. Decide the Percent Threshold  for Correlation Value . \n",
    "#      - Select those features who are having %age greater than equal to 50% (Regression)\n",
    "#      - For Classification, AVOID using this technique (If your BOSS tells you to perform tgis,\n",
    "#        then the threshold must be 80% or more)\n",
    "#\n",
    "# 3. When using correlation analysis on regression, always backup with Backward elimination for double \n",
    "#.   confirmation.\n",
    "# 4. Helps to clear the problem of multi-collinearity (Identifying multiple features with same  corr value\n",
    "#.   (Suggestion: 0.xxx must be same))"
   ]
  },
  {
   "cell_type": "code",
   "execution_count": 8,
   "metadata": {},
   "outputs": [
    {
     "data": {
      "text/html": [
       "<div>\n",
       "<style scoped>\n",
       "    .dataframe tbody tr th:only-of-type {\n",
       "        vertical-align: middle;\n",
       "    }\n",
       "\n",
       "    .dataframe tbody tr th {\n",
       "        vertical-align: top;\n",
       "    }\n",
       "\n",
       "    .dataframe thead th {\n",
       "        text-align: right;\n",
       "    }\n",
       "</style>\n",
       "<table border=\"1\" class=\"dataframe\">\n",
       "  <thead>\n",
       "    <tr style=\"text-align: right;\">\n",
       "      <th></th>\n",
       "      <th>R&amp;D Spend</th>\n",
       "      <th>Administration</th>\n",
       "      <th>Marketing Spend</th>\n",
       "      <th>Profit</th>\n",
       "    </tr>\n",
       "  </thead>\n",
       "  <tbody>\n",
       "    <tr>\n",
       "      <td>R&amp;D Spend</td>\n",
       "      <td>1.000000</td>\n",
       "      <td>0.241955</td>\n",
       "      <td>0.724248</td>\n",
       "      <td>0.972900</td>\n",
       "    </tr>\n",
       "    <tr>\n",
       "      <td>Administration</td>\n",
       "      <td>0.241955</td>\n",
       "      <td>1.000000</td>\n",
       "      <td>-0.032154</td>\n",
       "      <td>0.200717</td>\n",
       "    </tr>\n",
       "    <tr>\n",
       "      <td>Marketing Spend</td>\n",
       "      <td>0.724248</td>\n",
       "      <td>-0.032154</td>\n",
       "      <td>1.000000</td>\n",
       "      <td>0.747766</td>\n",
       "    </tr>\n",
       "    <tr>\n",
       "      <td>Profit</td>\n",
       "      <td>0.972900</td>\n",
       "      <td>0.200717</td>\n",
       "      <td>0.747766</td>\n",
       "      <td>1.000000</td>\n",
       "    </tr>\n",
       "  </tbody>\n",
       "</table>\n",
       "</div>"
      ],
      "text/plain": [
       "                 R&D Spend  Administration  Marketing Spend    Profit\n",
       "R&D Spend         1.000000        0.241955         0.724248  0.972900\n",
       "Administration    0.241955        1.000000        -0.032154  0.200717\n",
       "Marketing Spend   0.724248       -0.032154         1.000000  0.747766\n",
       "Profit            0.972900        0.200717         0.747766  1.000000"
      ]
     },
     "execution_count": 8,
     "metadata": {},
     "output_type": "execute_result"
    }
   ],
   "source": [
    "data.corr()"
   ]
  },
  {
   "cell_type": "code",
   "execution_count": 9,
   "metadata": {},
   "outputs": [],
   "source": [
    "# Profit    0.97233.    0.97245.    0.7896.      1\n",
    "#Create model using R&D and Markg"
   ]
  },
  {
   "cell_type": "markdown",
   "metadata": {},
   "source": [
    "# Method 2: RFE (Recursive Feature Elimination)"
   ]
  },
  {
   "cell_type": "code",
   "execution_count": 8,
   "metadata": {},
   "outputs": [],
   "source": [
    "#RFE can be applied only to the following algorithm\n",
    "#\n",
    "# 1. Regression (Algorithms that support coeff variables)\n",
    "#    - LinearRegression\n",
    "#    - SupportVectorRegressor\n",
    "#.   - DecisionTreeRegressor\n",
    "#.   - RandomForestRegressor\n",
    "\n",
    "# 2. Classification (Algorithms that support feature Importance variable)\n",
    "#    - DecisionTreeClassifier\n",
    "#    - RandomForestClassifier\n"
   ]
  },
  {
   "cell_type": "code",
   "execution_count": 9,
   "metadata": {},
   "outputs": [],
   "source": [
    "#Steps to apply RFE:\n",
    "# 1. Initialize the model's algorithm\n",
    "# 2. Apply RFE to model (ALL FEATURES and Label)\n",
    "# 3. Get Features with High Ranking"
   ]
  },
  {
   "cell_type": "code",
   "execution_count": 28,
   "metadata": {},
   "outputs": [
    {
     "name": "stdout",
     "output_type": "stream",
     "text": [
      "Index(['California', 'Florida', 'New York', 'R&D Spend', 'Administration',\n",
      "       'Marketing Spend', 'Profit'],\n",
      "      dtype='object')\n",
      "[3 2 4 1 1 1]\n",
      "[False False False  True  True  True]\n"
     ]
    },
    {
     "name": "stderr",
     "output_type": "stream",
     "text": [
      "C:\\Users\\Reena\\Anaconda3\\lib\\site-packages\\sklearn\\utils\\validation.py:724: DataConversionWarning: A column-vector y was passed when a 1d array was expected. Please change the shape of y to (n_samples, ), for example using ravel().\n",
      "  y = column_or_1d(y, warn=True)\n"
     ]
    }
   ],
   "source": [
    "# 1. Initialize the model's algorithm\n",
    "from sklearn.linear_model import LinearRegression\n",
    "modelForRFE = LinearRegression()\n",
    "\n",
    "from sklearn.tree import DecisionTreeRegressor\n",
    "from sklearn.ensemble import RandomForestRegressor\n",
    "lrModel = DecisionTreeRegressor(max_depth=8)\n",
    "modelForRFE = lrModel\n",
    "# 2. Apply RFE to model (ALL FEATURES and Label)\n",
    "from sklearn.feature_selection import RFE\n",
    "selectFeaturesRFE = RFE(estimator=modelForRFE,\n",
    "                       step = 1) #Eliminate Feature One by One at each iteration\n",
    "\n",
    "selectFeaturesRFE.fit(features,label)\n",
    "\n",
    "# 3. Get Features with High Ranking\n",
    "print(finalData.columns)\n",
    "print(selectFeaturesRFE.ranking_)\n",
    "print(selectFeaturesRFE.support_)"
   ]
  },
  {
   "cell_type": "code",
   "execution_count": null,
   "metadata": {},
   "outputs": [],
   "source": []
  },
  {
   "cell_type": "code",
   "execution_count": null,
   "metadata": {},
   "outputs": [],
   "source": [
    "#According to RFE, Profit can be determined easily based on company's location (LR)\n",
    "#Accoring to RFE with DT, Profit can be determined using Florida and R&D data"
   ]
  },
  {
   "cell_type": "markdown",
   "metadata": {},
   "source": [
    "# Feature Elimination using ANOVA (Univariate Analysis using Anova)"
   ]
  },
  {
   "cell_type": "code",
   "execution_count": 20,
   "metadata": {},
   "outputs": [
    {
     "name": "stderr",
     "output_type": "stream",
     "text": [
      "/opt/anaconda3/lib/python3.7/site-packages/sklearn/utils/validation.py:761: DataConversionWarning: A column-vector y was passed when a 1d array was expected. Please change the shape of y to (n_samples, ), for example using ravel().\n",
      "  y = column_or_1d(y, warn=True)\n"
     ]
    },
    {
     "data": {
      "text/plain": [
       "array([False, False, False,  True,  True,  True])"
      ]
     },
     "execution_count": 20,
     "metadata": {},
     "output_type": "execute_result"
    }
   ],
   "source": [
    "from sklearn.feature_selection import SelectPercentile\n",
    "from sklearn.feature_selection import f_regression\n",
    "# from sklearn.feature_selection import f_classif\n",
    "#Regression ----> f_regression\n",
    "#Classification --> f_classif\n",
    "\n",
    "#When working on ANOVA, the percentile value must be 50\n",
    "selectFeaturesANOVA = SelectPercentile(percentile=50, score_func=f_regression)\n",
    "\n",
    "selectFeaturesANOVA.fit(features,label)\n",
    "\n",
    "selectFeaturesANOVA.get_support()\n"
   ]
  },
  {
   "cell_type": "code",
   "execution_count": 21,
   "metadata": {},
   "outputs": [],
   "source": [
    "#ANOVA says, Maintain R&D,ADM,MARK"
   ]
  },
  {
   "cell_type": "markdown",
   "metadata": {},
   "source": [
    "# Feature Select By Model"
   ]
  },
  {
   "cell_type": "code",
   "execution_count": 23,
   "metadata": {},
   "outputs": [
    {
     "name": "stdout",
     "output_type": "stream",
     "text": [
      "Index(['California', 'Florida', 'New York', 'R&D Spend', 'Administration',\n",
      "       'Marketing Spend', 'Profit'],\n",
      "      dtype='object')\n",
      "[ True  True  True False False False]\n"
     ]
    }
   ],
   "source": [
    "# 1. Initialize the model's algorithm\n",
    "from sklearn.linear_model import LinearRegression\n",
    "modelForSBM = LinearRegression()\n",
    "\n",
    "# 2. Apply SBM to model (ALL FEATURES and Label)\n",
    "from sklearn.feature_selection import SelectFromModel\n",
    "selectFeaturesSBM = SelectFromModel(modelForSBM)\n",
    "\n",
    "selectFeaturesSBM.fit(features,label)\n",
    "\n",
    "# 3. Get Features with High Ranking\n",
    "print(finalData.columns)\n",
    "print(selectFeaturesSBM.get_support())"
   ]
  },
  {
   "cell_type": "code",
   "execution_count": 30,
   "metadata": {},
   "outputs": [],
   "source": [
    "#Final"
   ]
  },
  {
   "cell_type": "code",
   "execution_count": 28,
   "metadata": {},
   "outputs": [
    {
     "name": "stdout",
     "output_type": "stream",
     "text": [
      "Test: 0.9611102529882972 Train: 0.9387161169637389 RS: 1\n",
      "Test: 0.9775946857817924 Train: 0.9346763047942375 RS: 2\n",
      "Test: 0.9559654175007252 Train: 0.942246336812637 RS: 3\n",
      "Test: 0.9590556616168892 Train: 0.9424803388022351 RS: 4\n",
      "Test: 0.9724761281808778 Train: 0.9384811616912291 RS: 5\n",
      "Test: 0.981382877466359 Train: 0.9360316917181242 RS: 10\n",
      "Test: 0.9525970614685351 Train: 0.9429161309250664 RS: 12\n",
      "Test: 0.9665035917005049 Train: 0.9382536651204462 RS: 14\n",
      "Test: 0.9458552878814129 Train: 0.9448618299320201 RS: 20\n",
      "Test: 0.9598546868412196 Train: 0.9424357627200556 RS: 21\n",
      "Test: 0.96754829785172 Train: 0.9393665190660465 RS: 22\n",
      "Test: 0.9584704147342747 Train: 0.9432925534944119 RS: 24\n",
      "Test: 0.9628182291505862 Train: 0.939518924777711 RS: 26\n",
      "Test: 0.9523021832223025 Train: 0.9429070380091912 RS: 29\n",
      "Test: 0.9452326715138092 Train: 0.940117391975616 RS: 31\n",
      "Test: 0.9559154260857984 Train: 0.9307968670535005 RS: 34\n",
      "Test: 0.9561023815459189 Train: 0.9429880672597816 RS: 38\n",
      "Test: 0.9618335153549322 Train: 0.9352990565178751 RS: 39\n",
      "Test: 0.9497535199252226 Train: 0.9435886126697559 RS: 44\n",
      "Test: 0.9807487292685936 Train: 0.9285498178651063 RS: 45\n",
      "Test: 0.9444967671536765 Train: 0.9403393734754494 RS: 48\n"
     ]
    }
   ],
   "source": [
    "from sklearn.linear_model import LinearRegression\n",
    "from sklearn.model_selection import train_test_split\n",
    "\n",
    "for i in range(1,201):\n",
    "    X_train,X_test,y_train,y_test = train_test_split(features[:,[0,1,2,3]],\n",
    "                                                    label,\n",
    "                                                    test_size=0.2,\n",
    "                                                    random_state = i)\n",
    "    \n",
    "    model = LinearRegression()\n",
    "    model.fit(X_train,y_train)\n",
    "    \n",
    "    train_score = model.score(X_train,y_train)\n",
    "    test_score = model.score(X_test,y_test)\n",
    "    \n",
    "    if test_score > train_score:\n",
    "        print(\"Test: {} Train: {} RS: {}\".format(test_score,train_score,i))"
   ]
  },
  {
   "cell_type": "code",
   "execution_count": 33,
   "metadata": {},
   "outputs": [
    {
     "name": "stdout",
     "output_type": "stream",
     "text": [
      "Co-efficients: \n",
      "[[-9.87206147e+02  1.11121257e+03 -1.24006423e+02  8.66830052e-01]]\n",
      "Intercept: \n",
      "[46551.37128798]\n",
      " Train score 0.9532121595946517 \n",
      " Test score 0.8860586680822431 \n"
     ]
    }
   ],
   "source": [
    "\n",
    "lrModel = LinearRegression()\n",
    "\n",
    "lrModel.fit(X_train,y_train)\n",
    "#Lets Explore the equation\n",
    "\n",
    "print(\"Co-efficients: \")\n",
    "print(lrModel.coef_)\n",
    "print(\"Intercept: \")\n",
    "print(lrModel.intercept_)\n",
    "# 6. Check the quality of the model\n",
    "\n",
    "# We use accuracy check as a mechanism to check the quality of the model\n",
    "\n",
    "print ( \" Train score %r \" % lrModel.score(X_train,y_train))\n",
    "# To ensure our model quality is GOOD, ensure your model performs well with Unknown data\n",
    "print ( \" Test score %r \" %lrModel.score(X_test,y_test))"
   ]
  },
  {
   "cell_type": "code",
   "execution_count": null,
   "metadata": {},
   "outputs": [],
   "source": []
  }
 ],
 "metadata": {
  "kernelspec": {
   "display_name": "Python 3",
   "language": "python",
   "name": "python3"
  },
  "language_info": {
   "codemirror_mode": {
    "name": "ipython",
    "version": 3
   },
   "file_extension": ".py",
   "mimetype": "text/x-python",
   "name": "python",
   "nbconvert_exporter": "python",
   "pygments_lexer": "ipython3",
   "version": "3.7.4"
  }
 },
 "nbformat": 4,
 "nbformat_minor": 2
}
