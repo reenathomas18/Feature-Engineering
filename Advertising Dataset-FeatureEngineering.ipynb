{
 "cells": [
  {
   "cell_type": "markdown",
   "metadata": {},
   "source": [
    "## Data Preprocessing"
   ]
  },
  {
   "cell_type": "code",
   "execution_count": null,
   "metadata": {},
   "outputs": [],
   "source": []
  },
  {
   "cell_type": "code",
   "execution_count": 3,
   "metadata": {},
   "outputs": [],
   "source": [
    "#Importing the necessary libraries\n",
    "import pandas as pd\n",
    "import numpy as np"
   ]
  },
  {
   "cell_type": "code",
   "execution_count": 4,
   "metadata": {},
   "outputs": [],
   "source": [
    "\n"
   ]
  },
  {
   "cell_type": "code",
   "execution_count": 5,
   "metadata": {},
   "outputs": [],
   "source": [
    "df = pd.read_csv('Advertising.csv')"
   ]
  },
  {
   "cell_type": "code",
   "execution_count": 6,
   "metadata": {},
   "outputs": [],
   "source": [
    "#Step 1 : Check the info"
   ]
  },
  {
   "cell_type": "code",
   "execution_count": 7,
   "metadata": {
    "scrolled": true
   },
   "outputs": [
    {
     "name": "stdout",
     "output_type": "stream",
     "text": [
      "<class 'pandas.core.frame.DataFrame'>\n",
      "RangeIndex: 200 entries, 0 to 199\n",
      "Data columns (total 5 columns):\n",
      "Unnamed: 0    200 non-null int64\n",
      "TV            198 non-null float64\n",
      "radio         199 non-null float64\n",
      "newspaper     198 non-null float64\n",
      "sales         200 non-null float64\n",
      "dtypes: float64(4), int64(1)\n",
      "memory usage: 7.9 KB\n"
     ]
    }
   ],
   "source": [
    "df.info()\n",
    "\n"
   ]
  },
  {
   "cell_type": "code",
   "execution_count": 8,
   "metadata": {},
   "outputs": [
    {
     "data": {
      "text/html": [
       "<div>\n",
       "<style scoped>\n",
       "    .dataframe tbody tr th:only-of-type {\n",
       "        vertical-align: middle;\n",
       "    }\n",
       "\n",
       "    .dataframe tbody tr th {\n",
       "        vertical-align: top;\n",
       "    }\n",
       "\n",
       "    .dataframe thead th {\n",
       "        text-align: right;\n",
       "    }\n",
       "</style>\n",
       "<table border=\"1\" class=\"dataframe\">\n",
       "  <thead>\n",
       "    <tr style=\"text-align: right;\">\n",
       "      <th></th>\n",
       "      <th>Unnamed: 0</th>\n",
       "      <th>TV</th>\n",
       "      <th>radio</th>\n",
       "      <th>newspaper</th>\n",
       "      <th>sales</th>\n",
       "    </tr>\n",
       "  </thead>\n",
       "  <tbody>\n",
       "    <tr>\n",
       "      <td>count</td>\n",
       "      <td>200.000000</td>\n",
       "      <td>198.000000</td>\n",
       "      <td>199.000000</td>\n",
       "      <td>198.000000</td>\n",
       "      <td>200.000000</td>\n",
       "    </tr>\n",
       "    <tr>\n",
       "      <td>mean</td>\n",
       "      <td>100.500000</td>\n",
       "      <td>147.051010</td>\n",
       "      <td>23.173367</td>\n",
       "      <td>30.508081</td>\n",
       "      <td>14.022500</td>\n",
       "    </tr>\n",
       "    <tr>\n",
       "      <td>std</td>\n",
       "      <td>57.879185</td>\n",
       "      <td>85.446123</td>\n",
       "      <td>14.828683</td>\n",
       "      <td>21.612648</td>\n",
       "      <td>5.217457</td>\n",
       "    </tr>\n",
       "    <tr>\n",
       "      <td>min</td>\n",
       "      <td>1.000000</td>\n",
       "      <td>0.700000</td>\n",
       "      <td>0.000000</td>\n",
       "      <td>0.300000</td>\n",
       "      <td>1.600000</td>\n",
       "    </tr>\n",
       "    <tr>\n",
       "      <td>25%</td>\n",
       "      <td>50.750000</td>\n",
       "      <td>74.800000</td>\n",
       "      <td>9.950000</td>\n",
       "      <td>12.825000</td>\n",
       "      <td>10.375000</td>\n",
       "    </tr>\n",
       "    <tr>\n",
       "      <td>50%</td>\n",
       "      <td>100.500000</td>\n",
       "      <td>149.750000</td>\n",
       "      <td>22.500000</td>\n",
       "      <td>25.750000</td>\n",
       "      <td>12.900000</td>\n",
       "    </tr>\n",
       "    <tr>\n",
       "      <td>75%</td>\n",
       "      <td>150.250000</td>\n",
       "      <td>218.475000</td>\n",
       "      <td>36.400000</td>\n",
       "      <td>44.900000</td>\n",
       "      <td>17.400000</td>\n",
       "    </tr>\n",
       "    <tr>\n",
       "      <td>max</td>\n",
       "      <td>200.000000</td>\n",
       "      <td>296.400000</td>\n",
       "      <td>49.600000</td>\n",
       "      <td>114.000000</td>\n",
       "      <td>27.000000</td>\n",
       "    </tr>\n",
       "  </tbody>\n",
       "</table>\n",
       "</div>"
      ],
      "text/plain": [
       "       Unnamed: 0          TV       radio   newspaper       sales\n",
       "count  200.000000  198.000000  199.000000  198.000000  200.000000\n",
       "mean   100.500000  147.051010   23.173367   30.508081   14.022500\n",
       "std     57.879185   85.446123   14.828683   21.612648    5.217457\n",
       "min      1.000000    0.700000    0.000000    0.300000    1.600000\n",
       "25%     50.750000   74.800000    9.950000   12.825000   10.375000\n",
       "50%    100.500000  149.750000   22.500000   25.750000   12.900000\n",
       "75%    150.250000  218.475000   36.400000   44.900000   17.400000\n",
       "max    200.000000  296.400000   49.600000  114.000000   27.000000"
      ]
     },
     "execution_count": 8,
     "metadata": {},
     "output_type": "execute_result"
    }
   ],
   "source": [
    "#Check df describe\n",
    "df.describe()\n",
    "#From describe looks like there are no outliers"
   ]
  },
  {
   "cell_type": "code",
   "execution_count": 9,
   "metadata": {},
   "outputs": [],
   "source": [
    "#Since the first column does not have a proper column name , lets set it here\n",
    "df.columns.to_list()\n",
    "df.rename(columns = {'Unnamed: 0' : 'SrNo'}, inplace=True)"
   ]
  },
  {
   "cell_type": "code",
   "execution_count": 10,
   "metadata": {},
   "outputs": [],
   "source": [
    "#Step 3: Check and handle outliers for all numeric columns"
   ]
  },
  {
   "cell_type": "code",
   "execution_count": 11,
   "metadata": {},
   "outputs": [
    {
     "data": {
      "text/plain": [
       "<Figure size 700x500 with 3 Axes>"
      ]
     },
     "metadata": {},
     "output_type": "display_data"
    }
   ],
   "source": [
    "import matplotlib.pyplot as plt\n",
    "box_df = df.iloc[:,[1,2,3]]\n",
    "box_df.plot(kind='box', figsize= (7,5),subplots=True, layout=(1,3))\n",
    "plt.show()"
   ]
  },
  {
   "cell_type": "code",
   "execution_count": 12,
   "metadata": {},
   "outputs": [],
   "source": [
    "#Handling Outliers for all numeric columns\n",
    "#Numeric columns - Salary\n",
    "#To remove Outlier we can use 1.5 IQR Rule\n",
    "def outlierDetection(datacolumn):\n",
    "    #Sort the data in ascending order\n",
    "    #GET Q1 and Q3\n",
    "    sorted(datacolumn)\n",
    "    Q1,Q3 = np.percentile(datacolumn, [25,75])\n",
    "    \n",
    "    #Calc IQR\n",
    "    IQR = Q3 - Q1\n",
    "    \n",
    "    #Calc LowerRange\n",
    "    lr = Q1 - (1.5 * IQR)\n",
    "    #Calc Upper Range\n",
    "    ur = Q3 + (1.5 * IQR)\n",
    "    #return 1,2\n",
    "    return lr,ur"
   ]
  },
  {
   "cell_type": "code",
   "execution_count": 13,
   "metadata": {},
   "outputs": [
    {
     "name": "stdout",
     "output_type": "stream",
     "text": [
      "Col 'TV' \n",
      "Col 'radio' \n",
      "Col 'newspaper' \n"
     ]
    },
    {
     "name": "stderr",
     "output_type": "stream",
     "text": [
      "C:\\Users\\Reena\\Anaconda3\\lib\\site-packages\\numpy\\lib\\function_base.py:3826: RuntimeWarning: Invalid value encountered in percentile\n",
      "  interpolation=interpolation)\n"
     ]
    }
   ],
   "source": [
    "#Numeric columns - TV, radio,newspaper, sales  \n",
    "df.columns.to_list()\n",
    "#Consider only numeric columns \n",
    "\n",
    "num_list = ['TV', 'radio' , 'newspaper' ]\n",
    "for col in num_list:\n",
    "    print (\"Col %r \" % col)\n",
    "    lowerRange,upperRange = outlierDetection(df[col])\n",
    "    outlier_upper = df[col] > upperRange \n",
    "    outlier_lower = df[col] < lowerRange\n",
    "    if outlier_upper.any() or outlier_lower.any():\n",
    "        print (\"Outlier Detected for %r \" % col)\n",
    "        df.drop(df[(df[col] > upperRange) | (df[col] < lowerRange)].index , inplace=True)\n",
    "df.set_index(np.arange(0,len(df)) , inplace=True)\n",
    "#Hence as confirmed this dataset -there are no  outliers"
   ]
  },
  {
   "cell_type": "code",
   "execution_count": 14,
   "metadata": {},
   "outputs": [
    {
     "ename": "NameError",
     "evalue": "name 'sns' is not defined",
     "output_type": "error",
     "traceback": [
      "\u001b[1;31m---------------------------------------------------------------------------\u001b[0m",
      "\u001b[1;31mNameError\u001b[0m                                 Traceback (most recent call last)",
      "\u001b[1;32m<ipython-input-14-eb5939e1fc11>\u001b[0m in \u001b[0;36m<module>\u001b[1;34m\u001b[0m\n\u001b[1;32m----> 1\u001b[1;33m \u001b[0msns\u001b[0m\u001b[1;33m.\u001b[0m\u001b[0mpairplot\u001b[0m\u001b[1;33m(\u001b[0m\u001b[0mdf\u001b[0m\u001b[1;33m,\u001b[0m  \u001b[0mdiag_kind\u001b[0m\u001b[1;33m=\u001b[0m\u001b[1;34m'kde'\u001b[0m\u001b[1;33m,\u001b[0m\u001b[0mheight\u001b[0m\u001b[1;33m=\u001b[0m\u001b[1;36m1.5\u001b[0m\u001b[1;33m)\u001b[0m\u001b[1;33m\u001b[0m\u001b[1;33m\u001b[0m\u001b[0m\n\u001b[0m\u001b[0;32m      2\u001b[0m \u001b[1;31m#The distrubution of data looks normal and there appear to be no significant outliers present.\u001b[0m\u001b[1;33m\u001b[0m\u001b[1;33m\u001b[0m\u001b[1;33m\u001b[0m\u001b[0m\n",
      "\u001b[1;31mNameError\u001b[0m: name 'sns' is not defined"
     ]
    }
   ],
   "source": [
    "sns.pairplot(df,  diag_kind='kde',height=1.5)\n",
    "#The distrubution of data looks normal and there appear to be no significant outliers present."
   ]
  },
  {
   "cell_type": "code",
   "execution_count": null,
   "metadata": {
    "scrolled": true
   },
   "outputs": [],
   "source": []
  },
  {
   "cell_type": "code",
   "execution_count": null,
   "metadata": {},
   "outputs": [],
   "source": [
    "#Step 4: Handle inappropriate data"
   ]
  },
  {
   "cell_type": "code",
   "execution_count": 15,
   "metadata": {},
   "outputs": [
    {
     "data": {
      "text/plain": [
       "array([22.1, 10.4,  9.3, 18.5, 12.9,  7.2, 11.8, 13.2,  4.8, 10.6,  8.6,\n",
       "       17.4,  9.2,  9.7, 19. , 22.4, 12.5, 24.4, 11.3, 14.6, 18. ,  5.6,\n",
       "       15.5, 12. , 15. , 15.9, 18.9, 10.5, 21.4, 11.9,  9.6,  9.5, 12.8,\n",
       "       25.4, 14.7, 10.1, 21.5, 16.6, 17.1, 20.7,  8.5, 14.9, 23.2, 14.8,\n",
       "       11.4, 10.7, 22.6, 21.2, 20.2, 23.7,  5.5, 23.8, 18.4,  8.1, 24.2,\n",
       "       15.7, 14. , 13.4, 22.3, 18.3, 12.4,  8.8, 11. , 17. ,  8.7,  6.9,\n",
       "       14.2,  5.3, 12.3, 13.6, 21.7, 15.2, 16. , 16.7, 11.2,  7.3, 19.4,\n",
       "       22.2, 11.5, 16.9, 11.7, 17.2, 19.2, 19.8, 21.8, 14.1, 12.6, 12.2,\n",
       "        9.4,  6.6,  7. , 11.6, 19.7, 24.7,  1.6, 12.7,  5.7, 19.6, 10.8,\n",
       "       20.8, 10.9, 20.1, 10.3, 16.1, 15.6,  3.2, 15.3, 14.4, 13.3,  8. ,\n",
       "        8.4, 14.5,  7.6, 27. , 26.2, 17.6, 17.3,  6.7,  9.9,  5.9, 25.5])"
      ]
     },
     "execution_count": 15,
     "metadata": {},
     "output_type": "execute_result"
    }
   ],
   "source": [
    "#HAndling Inappropriate data\n",
    "df['TV'].unique() #We are assuming based on domain that all values can be valid data\n",
    "df['radio'].unique() #We are assuming based on domain all values are  valid data\n",
    "df['newspaper'].unique() #We are assuming based on domain that all can be  valid data\n",
    "df['sales'].unique() #We are assuming all valus are  valid data"
   ]
  },
  {
   "cell_type": "code",
   "execution_count": 16,
   "metadata": {},
   "outputs": [],
   "source": [
    "#Step 5: Check and handle missing data\n"
   ]
  },
  {
   "cell_type": "code",
   "execution_count": 17,
   "metadata": {},
   "outputs": [
    {
     "data": {
      "text/plain": [
       "SrNo         0\n",
       "TV           2\n",
       "radio        1\n",
       "newspaper    2\n",
       "sales        0\n",
       "dtype: int64"
      ]
     },
     "execution_count": 17,
     "metadata": {},
     "output_type": "execute_result"
    }
   ],
   "source": [
    "df.isna().sum() #- From below we can observe that TV has 2 missing values.,\n",
    "#radio has 1 missing value and newspaper has 2 missing values"
   ]
  },
  {
   "cell_type": "code",
   "execution_count": 18,
   "metadata": {},
   "outputs": [],
   "source": [
    "#Radio , newspaper, TV - numerical continuous - replace nan with mean\n",
    "#data.Age.fillna(i(data.Age.mean()) , inplace=True)\n",
    "col_list = ['TV','radio' , 'newspaper']\n",
    "for col in col_list:\n",
    "    df[col].fillna(round(df[col].mean(),1) , inplace=True)\n"
   ]
  },
  {
   "cell_type": "code",
   "execution_count": 19,
   "metadata": {},
   "outputs": [
    {
     "data": {
      "text/plain": [
       "SrNo         0\n",
       "TV           0\n",
       "radio        0\n",
       "newspaper    0\n",
       "sales        0\n",
       "dtype: int64"
      ]
     },
     "execution_count": 19,
     "metadata": {},
     "output_type": "execute_result"
    }
   ],
   "source": [
    "df.isna().sum() #-Now we can see that there are no missing values"
   ]
  },
  {
   "cell_type": "code",
   "execution_count": 52,
   "metadata": {},
   "outputs": [
    {
     "data": {
      "text/html": [
       "<div>\n",
       "<style scoped>\n",
       "    .dataframe tbody tr th:only-of-type {\n",
       "        vertical-align: middle;\n",
       "    }\n",
       "\n",
       "    .dataframe tbody tr th {\n",
       "        vertical-align: top;\n",
       "    }\n",
       "\n",
       "    .dataframe thead th {\n",
       "        text-align: right;\n",
       "    }\n",
       "</style>\n",
       "<table border=\"1\" class=\"dataframe\">\n",
       "  <thead>\n",
       "    <tr style=\"text-align: right;\">\n",
       "      <th></th>\n",
       "      <th>SrNo</th>\n",
       "      <th>TV</th>\n",
       "      <th>radio</th>\n",
       "      <th>newspaper</th>\n",
       "      <th>sales</th>\n",
       "    </tr>\n",
       "  </thead>\n",
       "  <tbody>\n",
       "    <tr>\n",
       "      <td>0</td>\n",
       "      <td>1</td>\n",
       "      <td>230.1</td>\n",
       "      <td>37.8</td>\n",
       "      <td>30.5</td>\n",
       "      <td>22.1</td>\n",
       "    </tr>\n",
       "    <tr>\n",
       "      <td>1</td>\n",
       "      <td>2</td>\n",
       "      <td>44.5</td>\n",
       "      <td>39.3</td>\n",
       "      <td>45.1</td>\n",
       "      <td>10.4</td>\n",
       "    </tr>\n",
       "    <tr>\n",
       "      <td>2</td>\n",
       "      <td>3</td>\n",
       "      <td>17.2</td>\n",
       "      <td>45.9</td>\n",
       "      <td>69.3</td>\n",
       "      <td>9.3</td>\n",
       "    </tr>\n",
       "    <tr>\n",
       "      <td>3</td>\n",
       "      <td>4</td>\n",
       "      <td>151.5</td>\n",
       "      <td>23.2</td>\n",
       "      <td>58.5</td>\n",
       "      <td>18.5</td>\n",
       "    </tr>\n",
       "    <tr>\n",
       "      <td>4</td>\n",
       "      <td>5</td>\n",
       "      <td>180.8</td>\n",
       "      <td>10.8</td>\n",
       "      <td>58.4</td>\n",
       "      <td>12.9</td>\n",
       "    </tr>\n",
       "    <tr>\n",
       "      <td>...</td>\n",
       "      <td>...</td>\n",
       "      <td>...</td>\n",
       "      <td>...</td>\n",
       "      <td>...</td>\n",
       "      <td>...</td>\n",
       "    </tr>\n",
       "    <tr>\n",
       "      <td>195</td>\n",
       "      <td>196</td>\n",
       "      <td>38.2</td>\n",
       "      <td>3.7</td>\n",
       "      <td>13.8</td>\n",
       "      <td>7.6</td>\n",
       "    </tr>\n",
       "    <tr>\n",
       "      <td>196</td>\n",
       "      <td>197</td>\n",
       "      <td>94.2</td>\n",
       "      <td>4.9</td>\n",
       "      <td>8.1</td>\n",
       "      <td>9.7</td>\n",
       "    </tr>\n",
       "    <tr>\n",
       "      <td>197</td>\n",
       "      <td>198</td>\n",
       "      <td>177.0</td>\n",
       "      <td>9.3</td>\n",
       "      <td>6.4</td>\n",
       "      <td>12.8</td>\n",
       "    </tr>\n",
       "    <tr>\n",
       "      <td>198</td>\n",
       "      <td>199</td>\n",
       "      <td>283.6</td>\n",
       "      <td>42.0</td>\n",
       "      <td>66.2</td>\n",
       "      <td>25.5</td>\n",
       "    </tr>\n",
       "    <tr>\n",
       "      <td>199</td>\n",
       "      <td>200</td>\n",
       "      <td>232.1</td>\n",
       "      <td>8.6</td>\n",
       "      <td>8.7</td>\n",
       "      <td>13.4</td>\n",
       "    </tr>\n",
       "  </tbody>\n",
       "</table>\n",
       "<p>200 rows × 5 columns</p>\n",
       "</div>"
      ],
      "text/plain": [
       "     SrNo     TV  radio  newspaper  sales\n",
       "0       1  230.1   37.8       30.5   22.1\n",
       "1       2   44.5   39.3       45.1   10.4\n",
       "2       3   17.2   45.9       69.3    9.3\n",
       "3       4  151.5   23.2       58.5   18.5\n",
       "4       5  180.8   10.8       58.4   12.9\n",
       "..    ...    ...    ...        ...    ...\n",
       "195   196   38.2    3.7       13.8    7.6\n",
       "196   197   94.2    4.9        8.1    9.7\n",
       "197   198  177.0    9.3        6.4   12.8\n",
       "198   199  283.6   42.0       66.2   25.5\n",
       "199   200  232.1    8.6        8.7   13.4\n",
       "\n",
       "[200 rows x 5 columns]"
      ]
     },
     "execution_count": 52,
     "metadata": {},
     "output_type": "execute_result"
    }
   ],
   "source": [
    "#Step 6: Check and handle categorical data\n",
    "#     - There are ategorical data for Address available in this dataset\n",
    "#     - Dropping it for now\n",
    "df"
   ]
  },
  {
   "cell_type": "code",
   "execution_count": 21,
   "metadata": {},
   "outputs": [],
   "source": [
    "#Step 7: Check and handle ordinal data\n",
    "#     - There are no ordinal data available in this dataset"
   ]
  },
  {
   "cell_type": "code",
   "execution_count": 22,
   "metadata": {},
   "outputs": [],
   "source": [
    "#Step 8: Check and handle pure string data\n",
    "#     - There are no pure string data available in this dataset"
   ]
  },
  {
   "cell_type": "code",
   "execution_count": 23,
   "metadata": {},
   "outputs": [],
   "source": [
    "#Step 9: Seperate your data into features and label. Ensure they are in the form of numpy arrays\n",
    "    \n",
    "features = df.iloc[:,:-1].values\n",
    "label = df.sales.values\n"
   ]
  },
  {
   "cell_type": "markdown",
   "metadata": {},
   "source": [
    "## Feature Scaling"
   ]
  },
  {
   "cell_type": "code",
   "execution_count": 24,
   "metadata": {},
   "outputs": [],
   "source": [
    "#Step 10: Perform feature scaling\n",
    "import seaborn as sns\n",
    "%matplotlib inline"
   ]
  },
  {
   "cell_type": "code",
   "execution_count": 25,
   "metadata": {},
   "outputs": [
    {
     "data": {
      "text/plain": [
       "<matplotlib.axes._subplots.AxesSubplot at 0x1e49fad4ec8>"
      ]
     },
     "execution_count": 25,
     "metadata": {},
     "output_type": "execute_result"
    },
    {
     "data": {
      "image/png": "[encoded data removed]",
      "text/plain": [
       "<Figure size 432x288 with 1 Axes>"
      ]
     },
     "metadata": {
      "needs_background": "light"
     },
     "output_type": "display_data"
    }
   ],
   "source": [
    "sns.distplot(features[:,1]) # Shows the distribution of TV"
   ]
  },
  {
   "cell_type": "code",
   "execution_count": 26,
   "metadata": {},
   "outputs": [
    {
     "data": {
      "text/plain": [
       "<matplotlib.axes._subplots.AxesSubplot at 0x1e49fb70e88>"
      ]
     },
     "execution_count": 26,
     "metadata": {},
     "output_type": "execute_result"
    },
    {
     "data": {
      "image/png": "[encoded data removed]",
      "text/plain": [
       "<Figure size 432x288 with 1 Axes>"
      ]
     },
     "metadata": {
      "needs_background": "light"
     },
     "output_type": "display_data"
    }
   ],
   "source": [
    "sns.distplot(features[:,2]) # Shows the distribution of radio\n"
   ]
  },
  {
   "cell_type": "code",
   "execution_count": 27,
   "metadata": {},
   "outputs": [
    {
     "data": {
      "text/plain": [
       "<matplotlib.axes._subplots.AxesSubplot at 0x1e49fbeb208>"
      ]
     },
     "execution_count": 27,
     "metadata": {},
     "output_type": "execute_result"
    },
    {
     "data": {
      "image/png": "[encoded data removed]",
      "text/plain": [
       "<Figure size 432x288 with 1 Axes>"
      ]
     },
     "metadata": {
      "needs_background": "light"
     },
     "output_type": "display_data"
    }
   ],
   "source": [
    "\n",
    "sns.distplot(features[:,3]) # Shows the distribution of newspaper\n"
   ]
  },
  {
   "cell_type": "code",
   "execution_count": 28,
   "metadata": {},
   "outputs": [],
   "source": [
    "#Standardize the data\n",
    "\n",
    "from sklearn.preprocessing import StandardScaler\n",
    "sc = StandardScaler()\n",
    "features = sc.fit_transform(features)\n"
   ]
  },
  {
   "cell_type": "code",
   "execution_count": 29,
   "metadata": {},
   "outputs": [
    {
     "data": {
      "text/plain": [
       "<matplotlib.axes._subplots.AxesSubplot at 0x1e4a0306fc8>"
      ]
     },
     "execution_count": 29,
     "metadata": {},
     "output_type": "execute_result"
    },
    {
     "data": {
      "image/png": "[encoded data removed]",
      "text/plain": [
       "<Figure size 432x288 with 1 Axes>"
      ]
     },
     "metadata": {
      "needs_background": "light"
     },
     "output_type": "display_data"
    }
   ],
   "source": [
    "sns.distplot(features[:,1]) # Shows the distribution of TV"
   ]
  },
  {
   "cell_type": "code",
   "execution_count": 30,
   "metadata": {},
   "outputs": [
    {
     "data": {
      "text/plain": [
       "<matplotlib.axes._subplots.AxesSubplot at 0x1e4a0347cc8>"
      ]
     },
     "execution_count": 30,
     "metadata": {},
     "output_type": "execute_result"
    },
    {
     "data": {
      "image/png": "[encoded data removed]",
      "text/plain": [
       "<Figure size 432x288 with 1 Axes>"
      ]
     },
     "metadata": {
      "needs_background": "light"
     },
     "output_type": "display_data"
    }
   ],
   "source": [
    "sns.distplot(features[:,2]) # Shows the distribution of radio"
   ]
  },
  {
   "cell_type": "code",
   "execution_count": 31,
   "metadata": {},
   "outputs": [
    {
     "data": {
      "text/plain": [
       "<matplotlib.axes._subplots.AxesSubplot at 0x1e4a03db748>"
      ]
     },
     "execution_count": 31,
     "metadata": {},
     "output_type": "execute_result"
    },
    {
     "data": {
      "image/png": "[encoded data removed]",
      "text/plain": [
       "<Figure size 432x288 with 1 Axes>"
      ]
     },
     "metadata": {
      "needs_background": "light"
     },
     "output_type": "display_data"
    }
   ],
   "source": [
    "sns.distplot(features[:,3]) # Shows the distribution of newspaper"
   ]
  },
  {
   "cell_type": "markdown",
   "metadata": {},
   "source": [
    "## Feature Elimination Techniques"
   ]
  },
  {
   "cell_type": "code",
   "execution_count": 32,
   "metadata": {},
   "outputs": [
    {
     "data": {
      "text/plain": [
       "'\\n1. All features\\n2. Correlation analysis\\n3. RFE\\n4. Backward Elimination\\n5. SBM\\n6. ANOVA\\n'"
      ]
     },
     "execution_count": 32,
     "metadata": {},
     "output_type": "execute_result"
    }
   ],
   "source": [
    "#Assignment\n",
    "#Task 1 --- Advertising.csv\n",
    "\n",
    "#Create a model that can predict the sales figure based on campaigning expenses done\n",
    "\"\"\"\n",
    "1. All features\n",
    "2. Correlation analysis\n",
    "3. RFE\n",
    "4. Backward Elimination\n",
    "5. SBM\n",
    "6. ANOVA\n",
    "\"\"\"\n",
    "#********************************************************"
   ]
  },
  {
   "cell_type": "markdown",
   "metadata": {},
   "source": [
    "## Step 1: Linear Regression Model considering All Features\n"
   ]
  },
  {
   "cell_type": "code",
   "execution_count": 33,
   "metadata": {},
   "outputs": [
    {
     "data": {
      "text/plain": [
       "array([[ 9.79312536e-01,  9.91334522e-01, -3.72961412e-04],\n",
       "       [-1.20929300e+00,  1.09299943e+00,  6.80281616e-01],\n",
       "       [-1.53121612e+00,  1.54032503e+00,  1.80848989e+00],\n",
       "       [ 5.24569597e-02,  1.79608005e-03,  1.30499198e+00],\n",
       "       [ 3.97964191e-01, -8.38633830e-01,  1.30032996e+00],\n",
       "       [-1.63144859e+00,  1.74365485e+00,  2.07422489e+00],\n",
       "       [-1.05599627e+00,  6.52451494e-01, -3.26714197e-01],\n",
       "       [-3.16634383e-01, -2.42199700e-01, -8.81494298e-01],\n",
       "       [-1.63262780e+00, -1.42829030e+00, -3.72961412e-04],\n",
       "       [ 6.22013249e-01, -1.39440200e+00, -4.33940603e-01],\n",
       "       [-9.54584595e-01, -1.17751686e+00, -2.94080073e-01],\n",
       "       [ 7.97714878e-01,  5.60173646e-02, -1.23580764e+00],\n",
       "       [-1.45338855e+00,  8.08337687e-01,  1.64998129e+00],\n",
       "       [-5.84314047e-01, -1.05551897e+00, -1.08662307e+00],\n",
       "       [ 6.72719088e-01,  6.59229155e-01,  7.22239775e-01],\n",
       "       [ 5.70128204e-01,  1.66232292e+00,  1.04391899e+00],\n",
       "       [-9.34538100e-01,  9.10002596e-01,  3.89241178e+00],\n",
       "       [ 1.58424499e+00,  1.11333241e+00,  1.17911750e+00],\n",
       "       [-9.18029222e-01, -1.81200755e-01, -5.69139115e-01],\n",
       "       [ 2.93032583e-03,  4.92397040e-02, -5.31842974e-01],\n",
       "       [ 8.41345484e-01,  3.06790805e-01,  1.06722908e+00],\n",
       "       [ 1.06539454e+00, -1.22496048e+00, -3.26714197e-01],\n",
       "       [-1.57838434e+00, -4.92973141e-01,  8.90072410e-01],\n",
       "       [ 9.58086835e-01, -4.25196536e-01, -2.00839720e-01],\n",
       "       [-9.99394406e-01, -7.16635940e-01, -5.69139115e-01],\n",
       "       [ 1.36609196e+00, -1.33340305e+00, -5.13194903e-01],\n",
       "       [-4.89547191e-02,  4.15233374e-01, -8.34874121e-01],\n",
       "       [ 1.09723309e+00, -4.38751857e-01, -3.54686303e-01],\n",
       "       [ 1.19982398e+00,  2.66124842e-01, -3.54686303e-01],\n",
       "       [-9.01520344e-01, -4.86195481e-01,  4.79814857e-01],\n",
       "       [ 1.71985363e+00,  3.47456769e-01,  5.91703280e-01],\n",
       "       [-4.02716389e-01, -3.91308233e-01,  3.77250468e-01],\n",
       "       [-5.87851663e-01, -1.46895626e+00, -2.36830497e-02],\n",
       "       [ 5.71914700e-04, -2.15089058e-01, -1.40830229e+00],\n",
       "       [-6.05539747e-01, -1.47573392e+00, -1.07729904e+00],\n",
       "       [ 1.69391111e+00, -1.29273709e+00, -1.02601684e+00],\n",
       "       [ 1.41326018e+00,  1.39799416e+00, -1.18918746e+00],\n",
       "       [-8.53172916e-01,  1.77754315e+00,  7.08253722e-01],\n",
       "       [-1.22580188e+00,  2.39014200e-01,  2.14079851e-01],\n",
       "       [ 9.54549219e-01,  9.84556862e-01,  6.95573034e-02],\n",
       "       [ 6.53851799e-01, -5.92028650e-02,  5.09092328e-02],\n",
       "       [ 3.53154379e-01,  6.93117458e-01,  3.81912486e-01],\n",
       "       [ 1.72810807e+00,  3.06790805e-01, -1.33837203e+00],\n",
       "       [ 7.05736844e-01, -1.00129768e+00, -1.91515685e-01],\n",
       "       [-1.43805888e+00,  1.71237594e-01,  5.96365298e-01],\n",
       "       [ 3.30749474e-01, -4.56475439e-02,  4.62472151e-02],\n",
       "       [-6.76292081e-01, -8.99632775e-01,  2.42051956e-01],\n",
       "       [ 1.09487468e+00,  1.24210796e+00, -5.59815080e-01],\n",
       "       [ 9.45115574e-01, -4.99750802e-01,  9.04058463e-01],\n",
       "       [-9.45150950e-01, -7.77634885e-01,  2.93334151e-01],\n",
       "       [ 6.22013249e-01, -1.36051369e+00,  1.90769762e-01],\n",
       "       [-5.50117085e-01, -9.19965757e-01, -1.25445571e+00],\n",
       "       [ 8.17761373e-01,  1.25566328e+00,  4.23870645e-01],\n",
       "       [ 4.19189891e-01,  1.56065801e+00,  1.31431602e+00],\n",
       "       [ 1.36373355e+00,  3.81345072e-01, -6.81027539e-01],\n",
       "       [ 6.11400399e-01,  1.77754315e+00,  1.37492225e+00],\n",
       "       [-1.64795747e+00,  3.33901448e-01,  5.07786963e-01],\n",
       "       [-1.27961492e-01, -2.69310343e-01, -6.48393415e-01],\n",
       "       [ 7.51725861e-01,  1.79109847e+00,  3.35292310e-01],\n",
       "       [ 7.50546655e-01,  4.28788696e-01, -9.88720704e-01],\n",
       "       [-1.10316450e+00, -1.43506796e+00, -4.24616568e-01],\n",
       "       [ 1.34722467e+00,  1.32343989e+00,  1.12783531e+00],\n",
       "       [ 1.08779945e+00, -5.20083783e-01, -1.49557526e-01],\n",
       "       [-5.22995357e-01,  4.35566356e-01, -1.03067886e+00],\n",
       "       [-1.88100976e-01,  1.33021755e+00, -7.49652438e-02],\n",
       "       [-9.20387633e-01, -9.40298738e-01, -1.38033019e+00],\n",
       "       [-1.36258972e+00,  9.66833280e-02, -1.31972396e+00],\n",
       "       [-9.14061195e-02, -5.87860389e-01, -9.46762545e-01],\n",
       "       [ 1.06539454e+00,  2.93235484e-01, -9.09466404e-01],\n",
       "       [ 8.22478195e-01,  1.40477182e+00, -1.54219544e-01],\n",
       "       [ 6.13758810e-01,  5.03342962e-01,  3.81912486e-01],\n",
       "       [-4.39271762e-01, -6.01415710e-01,  5.55712504e-02],\n",
       "       [ 5.71914700e-04,  6.66006815e-01, -5.22518938e-01],\n",
       "       [-2.08147471e-01, -1.18429452e+00,  3.69231798e-02],\n",
       "       [ 7.82385206e-01,  9.66833280e-02, -8.11564033e-01],\n",
       "       [-1.53475373e+00,  1.39121650e+00,  2.74555544e+00],\n",
       "       [-1.40975794e+00, -1.46217860e+00, -4.57250691e-01],\n",
       "       [-3.13096766e-01,  3.61012090e-01, -7.60281839e-01],\n",
       "       [-1.67036237e+00,  4.55899338e-01, -9.84058686e-01],\n",
       "       [-3.66161017e-01, -1.04874131e+00, -3.45362268e-01],\n",
       "       [-8.33126421e-01,  2.39014200e-01, -3.82658409e-01],\n",
       "       [ 1.09369548e+00, -1.29273709e+00,  2.97996168e-01],\n",
       "       [-8.46097683e-01, -1.94756076e-01,  9.28673916e-02],\n",
       "       [-9.27462867e-01,  1.44543778e+00,  2.37389939e-01],\n",
       "       [ 7.83564411e-01,  1.34377287e+00,  1.53473621e-01],\n",
       "       [ 5.44185681e-01, -3.23531627e-01,  1.64065725e+00],\n",
       "       [-8.34305627e-01,  2.93235484e-01, -6.76365521e-01],\n",
       "       [-4.28658912e-01,  1.18110902e+00,  1.52410681e+00],\n",
       "       [-6.92800959e-01,  1.57682273e-01,  1.99963261e+00],\n",
       "       [-4.39271762e-01,  1.66910058e+00,  9.73988728e-01],\n",
       "       [-1.50366398e-01, -1.23851580e+00, -9.88720704e-01],\n",
       "       [-1.39678668e+00, -1.46895626e+00,  1.16177480e-01],\n",
       "       [ 8.33091045e-01,  6.99895118e-01,  1.32830207e+00],\n",
       "       [ 1.22458729e+00,  9.03224935e-01,  1.94835042e+00],\n",
       "       [-4.67572696e-01, -6.21748692e-01, -9.14128421e-01],\n",
       "       [ 1.91603217e-01,  5.71119567e-01,  1.04391899e+00],\n",
       "       [ 5.96070726e-01, -1.33340305e+00, -1.14722930e+00],\n",
       "       [ 4.46311619e-01, -1.47312452e-01, -3.96644462e-01],\n",
       "       [ 1.68211905e+00,  1.29632925e+00,  9.64664693e-01],\n",
       "       [-1.39753548e-01,  1.25566328e+00,  7.17577757e-01],\n",
       "       [ 8.88513707e-01, -1.27918177e+00,  8.99396445e-01],\n",
       "       [ 1.76112583e+00,  8.89669614e-01,  3.28168747e+00],\n",
       "       [ 1.57009452e+00, -8.86077454e-01, -4.24616568e-01],\n",
       "       [ 4.81687786e-01, -4.04863554e-01, -5.87787186e-01],\n",
       "       [ 1.07482819e+00,  7.54116403e-01, -1.17520141e+00],\n",
       "       [-1.07914997e-01,  1.57421333e+00,  1.32830207e+00],\n",
       "       [-1.43923808e+00, -8.25078509e-01, -3.76691026e-02],\n",
       "       [-6.68037642e-01, -1.55028819e+00, -3.40700250e-01],\n",
       "       [-1.57956355e+00, -1.54351053e+00, -2.28811826e-01],\n",
       "       [ 1.27765154e+00,  2.52569521e-01, -1.16587737e+00],\n",
       "       [ 9.28606696e-01, -1.01485300e+00,  1.21175163e+00],\n",
       "       [ 1.11610038e+00,  1.00488984e+00, -3.40700250e-01],\n",
       "       [ 3.37824707e-01, -5.26861444e-01, -1.31039992e+00],\n",
       "       [ 7.37575394e-01, -1.74423095e-01, -9.23452457e-01],\n",
       "       [-8.11900721e-01,  1.60132397e+00,  1.86107745e-01],\n",
       "       [-8.48456094e-01,  8.01560027e-01,  1.03459496e+00],\n",
       "       [-9.25853251e-02, -6.01415710e-01, -2.28811826e-01],\n",
       "       [-8.33126421e-01, -1.51639989e+00, -7.32309733e-01],\n",
       "       [-2.51778077e-01,  9.30335577e-01,  2.27002964e+00],\n",
       "       [-1.50527359e+00, -4.86195481e-01, -3.82658409e-01],\n",
       "       [-6.78220082e-02,  2.45791860e-01,  7.31563810e-01],\n",
       "       [-1.51234883e+00, -9.98688284e-02,  9.27368551e-01],\n",
       "       [ 9.07380996e-01, -1.40795732e+00, -6.95013592e-01],\n",
       "       [-2.82437421e-01,  7.74449384e-01, -8.44198156e-01],\n",
       "       [ 9.72237302e-01,  6.18563191e-01,  2.03692875e+00],\n",
       "       [-7.05772220e-01, -7.70857224e-01, -2.14825773e-01],\n",
       "       [-1.64206144e+00,  1.06588879e+00,  9.36692587e-01],\n",
       "       [-7.88316610e-01, -1.57062117e+00, -9.93382721e-01],\n",
       "       [ 8.63750390e-01,  1.75043251e+00, -1.27310378e+00],\n",
       "       [-1.03123296e+00, -7.57301903e-01,  5.87041263e-01],\n",
       "       [-1.72578504e+00,  1.11333241e+00, -1.01669281e+00],\n",
       "       [ 1.39321369e+00, -1.37406901e+00,  5.82379245e-01],\n",
       "       [-1.63498621e+00,  2.72902503e-01, -1.32438597e+00],\n",
       "       [ 8.57854362e-01,  6.99895118e-01,  6.80281616e-01],\n",
       "       [-1.29891262e+00,  1.04555581e+00,  1.63599523e+00],\n",
       "       [-1.16448319e+00,  1.61487929e+00, -1.02601684e+00],\n",
       "       [-1.43216285e+00,  1.07266645e+00, -9.88720704e-01],\n",
       "       [ 1.49344616e+00,  3.88122732e-01,  1.36093619e+00],\n",
       "       [-1.22698108e+00,  1.84792915e-01, -4.66574727e-01],\n",
       "       [ 4.46311619e-01,  1.40477182e+00, -1.34303405e+00],\n",
       "       [-8.68502588e-01, -4.18418875e-01, -8.20888068e-01],\n",
       "       [ 5.50081709e-01,  8.28670669e-01,  2.10219700e+00],\n",
       "       [ 8.66108801e-01,  6.79562137e-01,  3.44616345e-01],\n",
       "       [-5.00590451e-01, -1.18429452e+00,  1.81445727e-01],\n",
       "       [-5.99643719e-01, -5.67527407e-01,  3.91236521e-01],\n",
       "       [-7.96140639e-02, -1.44184562e+00, -1.00270676e+00],\n",
       "       [ 1.09723309e+00, -1.07585195e+00, -1.01669281e+00],\n",
       "       [ 1.13378846e+00,  1.75043251e+00,  6.42985475e-01],\n",
       "       [-1.28594136e+00,  1.16077604e+00, -8.67508245e-01],\n",
       "       [-1.20693459e+00,  1.78015255e-01, -4.61912709e-01],\n",
       "       [ 1.57599055e+00, -6.28526352e-01,  3.02658186e-01],\n",
       "       [-3.07200738e-01, -1.00129768e+00,  8.48114251e-01],\n",
       "       [ 5.96070726e-01,  8.57374061e-03, -7.60281839e-01],\n",
       "       [ 2.85939662e-01,  1.12011007e+00,  3.35292310e-01],\n",
       "       [ 4.80508581e-01, -1.40534792e-01, -9.79396668e-01],\n",
       "       [-1.68569205e+00, -7.84412545e-01, -1.15655334e+00],\n",
       "       [-6.26765447e-01,  1.37766117e+00,  9.32030569e-01],\n",
       "       [ 3.24104650e-02, -1.48251158e+00, -2.89418056e-01],\n",
       "       [-1.59607242e+00,  9.30335577e-01,  6.84943633e-01],\n",
       "       [-1.81025743e-01, -3.23531627e-01,  1.90769762e-01],\n",
       "       [ 3.00090129e-01, -3.43864609e-01,  8.95107389e-03],\n",
       "       [-7.23460304e-01,  8.55781311e-01,  8.76086357e-01],\n",
       "       [ 4.87583814e-01, -3.43864609e-01, -2.28811826e-01],\n",
       "       [ 1.93961628e-01,  9.23557917e-01, -1.07729904e+00],\n",
       "       [-3.52010550e-01, -5.74305068e-01, -1.17053939e+00],\n",
       "       [ 1.03119758e+00, -1.34018071e+00,  2.53110262e+00],\n",
       "       [-1.52296168e+00,  9.77779201e-01, -4.15292532e-01],\n",
       "       [ 7.04557638e-01, -1.21818282e+00, -5.17856921e-01],\n",
       "       [ 8.05969317e-01,  2.89067223e-02,  1.26303382e+00],\n",
       "       [ 1.61844195e+00, -8.52189151e-01, -1.12391922e+00],\n",
       "       [-1.14443669e+00, -7.84412545e-01, -5.64477097e-01],\n",
       "       [ 2.05753683e-01, -1.54090113e-01,  7.87508022e-01],\n",
       "       [-1.50291518e+00, -2.08311397e-01, -6.29745344e-01],\n",
       "       [ 2.51742701e-01, -1.08940727e+00, -8.25550086e-01],\n",
       "       [ 8.88513707e-01, -1.34018071e+00, -8.11564033e-01],\n",
       "       [ 1.53118074e+00,  1.74365485e+00,  5.26435033e-01],\n",
       "       [ 1.19510715e+00,  4.76232320e-01, -4.75898762e-01],\n",
       "       [ 2.72968401e-01, -1.04196365e+00,  2.18741868e-01],\n",
       "       [ 1.52882233e+00, -1.41473498e+00, -3.17390162e-01],\n",
       "       [ 2.18724945e-01, -8.92855114e-01, -6.01773239e-01],\n",
       "       [ 1.12596444e-01, -1.39440200e+00, -1.03534088e+00],\n",
       "       [ 8.42524690e-01, -1.20462750e+00, -1.44895509e-01],\n",
       "       [-1.07132595e+00, -1.18429452e+00, -3.76691026e-02],\n",
       "       [ 1.65735574e+00,  1.34377287e+00,  1.92504033e+00],\n",
       "       [ 1.25878425e+00, -1.26979471e-01, -2.36830497e-02],\n",
       "       [ 6.83331938e-01,  1.48610374e+00, -5.08532885e-01],\n",
       "       [-8.90477084e-02, -1.42829030e+00, -1.82191650e-01],\n",
       "       [ 5.19422364e-01,  3.74567411e-01, -5.73801133e-01],\n",
       "       [ 1.63848845e+00, -6.28526352e-01, -1.24979369e+00],\n",
       "       [-1.51352803e+00, -7.50524243e-01, -3.31376215e-01],\n",
       "       [-1.26825328e+00,  1.21499732e+00, -1.15189132e+00],\n",
       "       [-8.43739271e-01, -8.38633830e-01, -1.14256729e+00],\n",
       "       [-1.53121612e+00, -1.29273709e+00,  5.09092328e-02],\n",
       "       [ 2.32875411e-01,  1.27599627e+00, -1.25445571e+00],\n",
       "       [ 3.12312594e-02,  8.42225990e-01, -1.14256729e+00],\n",
       "       [-1.28358295e+00, -1.31984773e+00, -7.78929909e-01],\n",
       "       [-6.23227830e-01, -1.23851580e+00, -1.04466492e+00],\n",
       "       [ 3.53154379e-01, -9.40298738e-01, -1.12391922e+00],\n",
       "       [ 1.61018751e+00,  1.27599627e+00,  1.66396734e+00],\n",
       "       [ 1.00289665e+00, -9.87742362e-01, -1.01669281e+00]])"
      ]
     },
     "execution_count": 33,
     "metadata": {},
     "output_type": "execute_result"
    }
   ],
   "source": [
    "#Step 1 in Feature Elimination: Lets now create a linear regression model considering all features\n",
    "df\n",
    "#We are discarding SrNo as it has no effect on the model\n",
    "#Lets use features that have undergone standardization\n",
    "ideal_features = np.delete(features, 0, axis=1)\n",
    "ideal_features\n"
   ]
  },
  {
   "cell_type": "code",
   "execution_count": 34,
   "metadata": {},
   "outputs": [
    {
     "name": "stdout",
     "output_type": "stream",
     "text": [
      "Test: 0.8898565236226447 Train: 0.8793445619260589 RS: 1\n",
      "Test: 0.8912348073197542 Train: 0.8766800892529071 RS: 4\n",
      "Test: 0.9214368016820536 Train: 0.8740289206156986 RS: 6\n",
      "Test: 0.9095967619776032 Train: 0.874618538754937 RS: 7\n",
      "Test: 0.9067142510233622 Train: 0.8760086953782309 RS: 9\n",
      "Test: 0.912964989067063 Train: 0.8722704766251239 RS: 12\n",
      "Test: 0.9189589310569705 Train: 0.8715370524793477 RS: 13\n",
      "Test: 0.9229219836751176 Train: 0.8676934235989407 RS: 21\n",
      "Test: 0.9044051801798346 Train: 0.8752903675668223 RS: 22\n",
      "Test: 0.9056994224648928 Train: 0.8771545358836549 RS: 27\n",
      "Test: 0.8826436720933357 Train: 0.8819743925968494 RS: 28\n",
      "Test: 0.9123279249924652 Train: 0.8699623726517898 RS: 29\n",
      "Test: 0.9272631326671713 Train: 0.8674002865180358 RS: 31\n",
      "Test: 0.8960264752788553 Train: 0.8785538486452633 RS: 33\n",
      "Test: 0.9263128618238664 Train: 0.8703016023357626 RS: 36\n",
      "Test: 0.8803919124101786 Train: 0.8803810055339717 RS: 39\n",
      "Test: 0.883342742270976 Train: 0.8815393647377786 RS: 41\n",
      "Test: 0.8995507646244186 Train: 0.8767138691611945 RS: 42\n",
      "Test: 0.92843283373932 Train: 0.8700519237905964 RS: 43\n",
      "Test: 0.9056065417167166 Train: 0.8763601585000796 RS: 51\n",
      "Test: 0.924871484314201 Train: 0.8705079846591832 RS: 53\n",
      "Test: 0.9049586977353802 Train: 0.8770928144753425 RS: 54\n",
      "Test: 0.9018684312174853 Train: 0.8767965412452899 RS: 55\n",
      "Test: 0.8887342428303281 Train: 0.881086963424392 RS: 56\n",
      "Test: 0.9246048713690946 Train: 0.8711549166530175 RS: 59\n",
      "Test: 0.8842440288460679 Train: 0.8810858835663483 RS: 60\n",
      "Test: 0.9051145532247504 Train: 0.8773915771676197 RS: 63\n",
      "Test: 0.8950009160399989 Train: 0.8790196992513202 RS: 65\n",
      "Test: 0.89002716009297 Train: 0.8794123245834324 RS: 66\n",
      "Test: 0.8814903369867024 Train: 0.8813020914801452 RS: 67\n",
      "Test: 0.9224121110933009 Train: 0.8686989007833055 RS: 69\n",
      "Test: 0.9135178404799521 Train: 0.8708072365059207 RS: 70\n",
      "Test: 0.8969973425599552 Train: 0.8784298494402775 RS: 72\n",
      "Test: 0.9076438472920331 Train: 0.8760136209325915 RS: 75\n",
      "Test: 0.9383297009364374 Train: 0.8676005206179406 RS: 77\n",
      "Test: 0.8870483995580299 Train: 0.8812631137536671 RS: 78\n",
      "Test: 0.9385395566806921 Train: 0.8647983996322446 RS: 83\n",
      "Test: 0.8985243933451685 Train: 0.8777064103567672 RS: 84\n",
      "Test: 0.8840463035783299 Train: 0.873150284463657 RS: 91\n",
      "Test: 0.9521636703010682 Train: 0.8601472869808203 RS: 92\n",
      "Test: 0.9111676452014927 Train: 0.8745328873756225 RS: 93\n",
      "Test: 0.8914883007462147 Train: 0.8762655671092872 RS: 95\n",
      "Test: 0.9096671529906369 Train: 0.8712970671919049 RS: 97\n",
      "Test: 0.9396872467201373 Train: 0.8625987590772498 RS: 98\n",
      "Test: 0.9190529948918081 Train: 0.8740678049453854 RS: 100\n",
      "Test: 0.9308182202373085 Train: 0.868954101550596 RS: 101\n",
      "Test: 0.8970883905961545 Train: 0.8774417814594158 RS: 102\n",
      "Test: 0.9148676738047605 Train: 0.8738035659081544 RS: 103\n",
      "Test: 0.8841621195028859 Train: 0.8817905093137439 RS: 105\n",
      "Test: 0.8893626180364724 Train: 0.8798205133520458 RS: 108\n",
      "Test: 0.9387297315671465 Train: 0.8636669528787195 RS: 110\n",
      "Test: 0.9230707878933979 Train: 0.8725525398375324 RS: 113\n",
      "Test: 0.9005211765608011 Train: 0.875936052612725 RS: 114\n",
      "Test: 0.9084804095915984 Train: 0.870828219249365 RS: 115\n",
      "Test: 0.909354563665535 Train: 0.8762461121477431 RS: 118\n",
      "Test: 0.8919712669762206 Train: 0.8797452605396116 RS: 123\n",
      "Test: 0.8864349366043357 Train: 0.8781931721724121 RS: 124\n",
      "Test: 0.8867341705009254 Train: 0.8788593190798966 RS: 126\n",
      "Test: 0.8899826631566492 Train: 0.8778547246507292 RS: 128\n",
      "Test: 0.9327631090023113 Train: 0.8689227964034986 RS: 129\n",
      "Test: 0.8917595414828373 Train: 0.8795803099222863 RS: 130\n",
      "Test: 0.8933804673881046 Train: 0.8795461057757741 RS: 131\n",
      "Test: 0.9181380096101504 Train: 0.8721638499889066 RS: 134\n",
      "Test: 0.9319442611448617 Train: 0.8671338529874169 RS: 137\n",
      "Test: 0.919705783022019 Train: 0.8674452238050927 RS: 138\n",
      "Test: 0.9204562487904516 Train: 0.8611578653812826 RS: 139\n",
      "Test: 0.8915823820992796 Train: 0.8794434145699593 RS: 144\n",
      "Test: 0.897140991309149 Train: 0.878496950962713 RS: 146\n",
      "Test: 0.9137378271851007 Train: 0.8720755249188576 RS: 148\n",
      "Test: 0.953020288565519 Train: 0.8613730560931624 RS: 151\n",
      "Test: 0.9352344057345829 Train: 0.8665635731393921 RS: 154\n",
      "Test: 0.9073808874280502 Train: 0.8741080170738913 RS: 158\n",
      "Test: 0.9173202924921966 Train: 0.8720925703271877 RS: 161\n",
      "Test: 0.9232172573705738 Train: 0.8623559745132195 RS: 164\n",
      "Test: 0.8909156208545624 Train: 0.8785946528976536 RS: 168\n",
      "Test: 0.9005099402341403 Train: 0.876581966090022 RS: 169\n",
      "Test: 0.9026802966647484 Train: 0.8778417033458672 RS: 171\n",
      "Test: 0.8846640300459434 Train: 0.8793758962154733 RS: 172\n",
      "Test: 0.905667136565936 Train: 0.8744063237982762 RS: 174\n",
      "Test: 0.9163103602387475 Train: 0.8734102215397712 RS: 175\n",
      "Test: 0.9232086445346857 Train: 0.8740250140290293 RS: 179\n",
      "Test: 0.9021090816002733 Train: 0.876231238576847 RS: 181\n",
      "Test: 0.9183123668686852 Train: 0.8748243153731138 RS: 182\n",
      "Test: 0.8859256240681072 Train: 0.879832624253211 RS: 185\n",
      "Test: 0.936771224793048 Train: 0.8568452281542823 RS: 187\n",
      "Test: 0.8978595428101074 Train: 0.8770552398477112 RS: 190\n",
      "Test: 0.9127186526725198 Train: 0.8754521312599802 RS: 193\n",
      "Test: 0.9192140510074556 Train: 0.8700540543116667 RS: 194\n",
      "Test: 0.883338348545687 Train: 0.8815533543456188 RS: 197\n",
      "The random state for the max test score  of 0.953020288565519 is 151  \n",
      "Since test score is greater than train score this model is good\n"
     ]
    }
   ],
   "source": [
    "from sklearn.linear_model import LinearRegression\n",
    "from sklearn.model_selection import train_test_split\n",
    "\n",
    "\n",
    "def determine_RS(features, label):\n",
    "    max_val = 0\n",
    "    random_state = 0\n",
    "    hit = 0 # This flag is fired when the test score is greater than train score\n",
    "    #Since there are 200 records lets try iteration over 200\n",
    "    for i in range(1,201):\n",
    "        X_train,X_test,y_train,y_test = train_test_split(features,\n",
    "                                                        label,\n",
    "                                                        test_size=0.2,\n",
    "                                                        random_state = i)\n",
    "\n",
    "        model = LinearRegression()\n",
    "        model.fit(X_train,y_train)\n",
    "\n",
    "        train_score = model.score(X_train,y_train)\n",
    "        test_score = model.score(X_test,y_test)\n",
    "\n",
    "        if test_score > train_score:\n",
    "            hit = 1\n",
    "            if test_score > max_val:\n",
    "                max_val = test_score\n",
    "                random_state = i\n",
    "            print(\"Test: {} Train: {} RS: {}\".format(test_score,train_score,i))\n",
    "    return [max_val, random_state, hit]\n",
    "\n",
    "max_test_score ,random_state, hit = determine_RS(ideal_features, label)\n",
    "\n",
    "print (\"The random state for the max test score  of %r is %r  \" % (max_test_score, random_state))\n",
    "if hit:\n",
    "    print (\"Since test score is greater than train score this model is good\")\n"
   ]
  },
  {
   "cell_type": "code",
   "execution_count": 35,
   "metadata": {},
   "outputs": [
    {
     "name": "stdout",
     "output_type": "stream",
     "text": [
      "Co-efficients: \n",
      "[ 3.91533259  2.77346746 -0.07687992]\n",
      "Intercept: \n",
      "13.94002612621771\n",
      " Train score 0.8613730560931624 \n",
      " Test score 0.953020288565519 \n"
     ]
    }
   ],
   "source": [
    "# Now  Create Train Test Splits with the best random state\n",
    "\n",
    "def apply_best_RS(random_state, features):\n",
    "    from sklearn.model_selection import train_test_split\n",
    "    X_train,X_test,y_train,y_test = train_test_split(features,\n",
    "                                                     label,\n",
    "                                                     test_size=0.2,\n",
    "                                                     random_state = random_state)\n",
    "    lrModel = LinearRegression()\n",
    "\n",
    "    lrModel.fit(X_train,y_train)\n",
    "    #Lets Explore the equation\n",
    "    print(\"Co-efficients: \")\n",
    "    print(lrModel.coef_)\n",
    "    print(\"Intercept: \")\n",
    "    \n",
    "    print(lrModel.intercept_)\n",
    "    # Check the quality of the model\n",
    "    # We use accuracy check as a mechanism to check the quality of the model\n",
    "    print ( \" Train score %r \" % lrModel.score(X_train,y_train))\n",
    "    # To ensure our model quality is GOOD, ensure your model performs well with Unknown data\n",
    "    print ( \" Test score %r \" %lrModel.score(X_test,y_test))\n",
    "\n",
    "apply_best_RS(random_state, ideal_features)"
   ]
  },
  {
   "cell_type": "code",
   "execution_count": 36,
   "metadata": {},
   "outputs": [
    {
     "name": "stdout",
     "output_type": "stream",
     "text": [
      "Test: 0.8898565236226452 Train: 0.8793445619260588 RS: 1\n",
      "Test: 0.8912348073197545 Train: 0.8766800892529071 RS: 4\n",
      "Test: 0.9214368016820534 Train: 0.8740289206156986 RS: 6\n",
      "Test: 0.9095967619776031 Train: 0.874618538754937 RS: 7\n",
      "Test: 0.9067142510233622 Train: 0.8760086953782309 RS: 9\n",
      "Test: 0.912964989067063 Train: 0.8722704766251239 RS: 12\n",
      "Test: 0.9189589310569704 Train: 0.8715370524793478 RS: 13\n",
      "Test: 0.9229219836751176 Train: 0.8676934235989407 RS: 21\n",
      "Test: 0.9044051801798346 Train: 0.8752903675668223 RS: 22\n",
      "Test: 0.9056994224648928 Train: 0.877154535883655 RS: 27\n",
      "Test: 0.8826436720933357 Train: 0.8819743925968494 RS: 28\n",
      "Test: 0.9123279249924654 Train: 0.8699623726517898 RS: 29\n",
      "Test: 0.9272631326671713 Train: 0.8674002865180357 RS: 31\n",
      "Test: 0.8960264752788549 Train: 0.8785538486452633 RS: 33\n",
      "Test: 0.9263128618238663 Train: 0.8703016023357626 RS: 36\n",
      "Test: 0.8803919124101786 Train: 0.8803810055339717 RS: 39\n",
      "Test: 0.8833427422709758 Train: 0.8815393647377787 RS: 41\n",
      "Test: 0.8995507646244186 Train: 0.8767138691611945 RS: 42\n",
      "Test: 0.9284328337393197 Train: 0.8700519237905964 RS: 43\n",
      "Test: 0.9056065417167166 Train: 0.8763601585000796 RS: 51\n",
      "Test: 0.924871484314201 Train: 0.8705079846591832 RS: 53\n",
      "Test: 0.9049586977353801 Train: 0.8770928144753425 RS: 54\n",
      "Test: 0.9018684312174856 Train: 0.8767965412452899 RS: 55\n",
      "Test: 0.8887342428303281 Train: 0.881086963424392 RS: 56\n",
      "Test: 0.9246048713690944 Train: 0.8711549166530175 RS: 59\n",
      "Test: 0.8842440288460679 Train: 0.8810858835663484 RS: 60\n",
      "Test: 0.9051145532247504 Train: 0.8773915771676197 RS: 63\n",
      "Test: 0.895000916039999 Train: 0.8790196992513203 RS: 65\n",
      "Test: 0.8900271600929701 Train: 0.8794123245834324 RS: 66\n",
      "Test: 0.8814903369867024 Train: 0.8813020914801452 RS: 67\n",
      "Test: 0.922412111093301 Train: 0.8686989007833055 RS: 69\n",
      "Test: 0.9135178404799521 Train: 0.8708072365059207 RS: 70\n",
      "Test: 0.8969973425599552 Train: 0.8784298494402775 RS: 72\n",
      "Test: 0.9076438472920331 Train: 0.8760136209325915 RS: 75\n",
      "Test: 0.9383297009364373 Train: 0.8676005206179406 RS: 77\n",
      "Test: 0.8870483995580298 Train: 0.8812631137536671 RS: 78\n",
      "Test: 0.9385395566806919 Train: 0.8647983996322446 RS: 83\n",
      "Test: 0.8985243933451688 Train: 0.8777064103567671 RS: 84\n",
      "Test: 0.8840463035783297 Train: 0.873150284463657 RS: 91\n",
      "Test: 0.9521636703010682 Train: 0.8601472869808203 RS: 92\n",
      "Test: 0.9111676452014927 Train: 0.8745328873756225 RS: 93\n",
      "Test: 0.8914883007462144 Train: 0.8762655671092872 RS: 95\n",
      "Test: 0.9096671529906367 Train: 0.8712970671919049 RS: 97\n",
      "Test: 0.9396872467201371 Train: 0.8625987590772498 RS: 98\n",
      "Test: 0.919052994891808 Train: 0.8740678049453854 RS: 100\n",
      "Test: 0.9308182202373085 Train: 0.868954101550596 RS: 101\n",
      "Test: 0.8970883905961547 Train: 0.8774417814594158 RS: 102\n",
      "Test: 0.9148676738047605 Train: 0.8738035659081544 RS: 103\n",
      "Test: 0.8841621195028859 Train: 0.8817905093137439 RS: 105\n",
      "Test: 0.8893626180364724 Train: 0.8798205133520458 RS: 108\n",
      "Test: 0.9387297315671463 Train: 0.8636669528787195 RS: 110\n",
      "Test: 0.9230707878933977 Train: 0.8725525398375324 RS: 113\n",
      "Test: 0.9005211765608011 Train: 0.8759360526127249 RS: 114\n",
      "Test: 0.9084804095915983 Train: 0.870828219249365 RS: 115\n",
      "Test: 0.9093545636655351 Train: 0.8762461121477431 RS: 118\n",
      "Test: 0.8919712669762206 Train: 0.8797452605396116 RS: 123\n",
      "Test: 0.8864349366043358 Train: 0.8781931721724121 RS: 124\n",
      "Test: 0.8867341705009253 Train: 0.8788593190798966 RS: 126\n",
      "Test: 0.8899826631566492 Train: 0.8778547246507292 RS: 128\n",
      "Test: 0.9327631090023113 Train: 0.8689227964034986 RS: 129\n",
      "Test: 0.8917595414828371 Train: 0.8795803099222863 RS: 130\n",
      "Test: 0.8933804673881046 Train: 0.8795461057757741 RS: 131\n",
      "Test: 0.9181380096101501 Train: 0.8721638499889066 RS: 134\n",
      "Test: 0.9319442611448617 Train: 0.8671338529874169 RS: 137\n",
      "Test: 0.919705783022019 Train: 0.8674452238050927 RS: 138\n",
      "Test: 0.9204562487904515 Train: 0.8611578653812827 RS: 139\n",
      "Test: 0.8915823820992796 Train: 0.8794434145699593 RS: 144\n",
      "Test: 0.8971409913091489 Train: 0.878496950962713 RS: 146\n",
      "Test: 0.9137378271851007 Train: 0.8720755249188575 RS: 148\n",
      "Test: 0.953020288565519 Train: 0.8613730560931624 RS: 151\n",
      "Test: 0.9352344057345829 Train: 0.8665635731393921 RS: 154\n",
      "Test: 0.9073808874280502 Train: 0.8741080170738913 RS: 158\n",
      "Test: 0.9173202924921966 Train: 0.8720925703271877 RS: 161\n",
      "Test: 0.9232172573705734 Train: 0.8623559745132195 RS: 164\n",
      "Test: 0.8909156208545624 Train: 0.8785946528976536 RS: 168\n",
      "Test: 0.9005099402341403 Train: 0.876581966090022 RS: 169\n",
      "Test: 0.9026802966647484 Train: 0.8778417033458672 RS: 171\n",
      "Test: 0.8846640300459434 Train: 0.8793758962154734 RS: 172\n",
      "Test: 0.9056671365659357 Train: 0.8744063237982762 RS: 174\n",
      "Test: 0.9163103602387473 Train: 0.8734102215397712 RS: 175\n",
      "Test: 0.9232086445346855 Train: 0.8740250140290293 RS: 179\n",
      "Test: 0.9021090816002733 Train: 0.8762312385768469 RS: 181\n",
      "Test: 0.918312366868685 Train: 0.8748243153731138 RS: 182\n",
      "Test: 0.885925624068107 Train: 0.879832624253211 RS: 185\n",
      "Test: 0.936771224793048 Train: 0.8568452281542823 RS: 187\n",
      "Test: 0.8978595428101074 Train: 0.8770552398477112 RS: 190\n",
      "Test: 0.9127186526725202 Train: 0.8754521312599802 RS: 193\n",
      "Test: 0.9192140510074556 Train: 0.8700540543116667 RS: 194\n",
      "Test: 0.883338348545687 Train: 0.8815533543456188 RS: 197\n",
      "The random state for the max test score  of 0.953020288565519 is 151  \n",
      "Since test score is greater than train score this model is good\n",
      "Co-efficients: \n",
      "[ 0.04616982  0.18797621 -0.00358416]\n",
      "Intercept: \n",
      "2.9039635590349278\n",
      " Train score 0.8613730560931624 \n",
      " Test score 0.953020288565519 \n"
     ]
    }
   ],
   "source": [
    "#Use the below commented out values if you do not want to use standardization\n",
    "features = df.iloc[:,[1,2,3]].values  \n",
    "label = df.sales.values\n",
    "\n",
    "max_test_score ,random_state, hit = determine_RS(features, label)\n",
    "\n",
    "print (\"The random state for the max test score  of %r is %r  \" % (max_test_score, random_state))\n",
    "if hit:\n",
    "    print (\"Since test score is greater than train score this model is good\")\n",
    "#Conclusion: HEnce standardization will show no variation in output ; We are getting same resuts as previously\n",
    "apply_best_RS(random_state, features)"
   ]
  },
  {
   "cell_type": "markdown",
   "metadata": {},
   "source": [
    "## Step 2: Correlation Analysis:"
   ]
  },
  {
   "cell_type": "code",
   "execution_count": 37,
   "metadata": {},
   "outputs": [
    {
     "data": {
      "text/html": [
       "<div>\n",
       "<style scoped>\n",
       "    .dataframe tbody tr th:only-of-type {\n",
       "        vertical-align: middle;\n",
       "    }\n",
       "\n",
       "    .dataframe tbody tr th {\n",
       "        vertical-align: top;\n",
       "    }\n",
       "\n",
       "    .dataframe thead th {\n",
       "        text-align: right;\n",
       "    }\n",
       "</style>\n",
       "<table border=\"1\" class=\"dataframe\">\n",
       "  <thead>\n",
       "    <tr style=\"text-align: right;\">\n",
       "      <th></th>\n",
       "      <th>SrNo</th>\n",
       "      <th>TV</th>\n",
       "      <th>radio</th>\n",
       "      <th>newspaper</th>\n",
       "      <th>sales</th>\n",
       "    </tr>\n",
       "  </thead>\n",
       "  <tbody>\n",
       "    <tr>\n",
       "      <td>SrNo</td>\n",
       "      <td>1.000000</td>\n",
       "      <td>0.022559</td>\n",
       "      <td>-0.100843</td>\n",
       "      <td>-0.152276</td>\n",
       "      <td>-0.051616</td>\n",
       "    </tr>\n",
       "    <tr>\n",
       "      <td>TV</td>\n",
       "      <td>0.022559</td>\n",
       "      <td>1.000000</td>\n",
       "      <td>0.061461</td>\n",
       "      <td>0.044010</td>\n",
       "      <td>0.778288</td>\n",
       "    </tr>\n",
       "    <tr>\n",
       "      <td>radio</td>\n",
       "      <td>-0.100843</td>\n",
       "      <td>0.061461</td>\n",
       "      <td>1.000000</td>\n",
       "      <td>0.333218</td>\n",
       "      <td>0.573105</td>\n",
       "    </tr>\n",
       "    <tr>\n",
       "      <td>newspaper</td>\n",
       "      <td>-0.152276</td>\n",
       "      <td>0.044010</td>\n",
       "      <td>0.333218</td>\n",
       "      <td>1.000000</td>\n",
       "      <td>0.205030</td>\n",
       "    </tr>\n",
       "    <tr>\n",
       "      <td>sales</td>\n",
       "      <td>-0.051616</td>\n",
       "      <td>0.778288</td>\n",
       "      <td>0.573105</td>\n",
       "      <td>0.205030</td>\n",
       "      <td>1.000000</td>\n",
       "    </tr>\n",
       "  </tbody>\n",
       "</table>\n",
       "</div>"
      ],
      "text/plain": [
       "               SrNo        TV     radio  newspaper     sales\n",
       "SrNo       1.000000  0.022559 -0.100843  -0.152276 -0.051616\n",
       "TV         0.022559  1.000000  0.061461   0.044010  0.778288\n",
       "radio     -0.100843  0.061461  1.000000   0.333218  0.573105\n",
       "newspaper -0.152276  0.044010  0.333218   1.000000  0.205030\n",
       "sales     -0.051616  0.778288  0.573105   0.205030  1.000000"
      ]
     },
     "execution_count": 37,
     "metadata": {},
     "output_type": "execute_result"
    }
   ],
   "source": [
    "df.corr()"
   ]
  },
  {
   "cell_type": "code",
   "execution_count": 38,
   "metadata": {},
   "outputs": [
    {
     "data": {
      "text/plain": [
       "<matplotlib.axes._subplots.AxesSubplot at 0x1e4a05e0308>"
      ]
     },
     "execution_count": 38,
     "metadata": {},
     "output_type": "execute_result"
    },
    {
     "data": {
      "image/png": "[encoded data removed]",
      "text/plain": [
       "<Figure size 432x288 with 2 Axes>"
      ]
     },
     "metadata": {
      "needs_background": "light"
     },
     "output_type": "display_data"
    }
   ],
   "source": [
    "sns.heatmap(df.corr())"
   ]
  },
  {
   "cell_type": "code",
   "execution_count": 39,
   "metadata": {},
   "outputs": [],
   "source": [
    "# From corr data , it suggests to create model from TV and Radio\n",
    "#Hence let us create a linear regression model out of these two features alone"
   ]
  },
  {
   "cell_type": "code",
   "execution_count": 40,
   "metadata": {},
   "outputs": [
    {
     "name": "stdout",
     "output_type": "stream",
     "text": [
      "Test: 0.8919559765107756 Train: 0.8792509346620969 RS: 1\n",
      "Test: 0.8929269530732717 Train: 0.8765689653397215 RS: 4\n",
      "Test: 0.9230404286465392 Train: 0.8739153861564095 RS: 6\n",
      "Test: 0.9095820194125421 Train: 0.8746039631955966 RS: 7\n",
      "Test: 0.9079718661374621 Train: 0.8758307296292167 RS: 9\n",
      "Test: 0.9149113711749474 Train: 0.8719728363927715 RS: 12\n",
      "Test: 0.9189470387476659 Train: 0.8715368348335003 RS: 13\n",
      "Test: 0.9229974991574137 Train: 0.8676602142146221 RS: 21\n",
      "Test: 0.9043804837589011 Train: 0.8752893587573986 RS: 22\n",
      "Test: 0.9082194998235525 Train: 0.8769763541837 RS: 27\n",
      "Test: 0.8855231924008415 Train: 0.8817406638039155 RS: 28\n",
      "Test: 0.913007388665412 Train: 0.8698872155441356 RS: 29\n",
      "Test: 0.9276303579032299 Train: 0.8673781029991562 RS: 31\n",
      "Test: 0.8966377735045655 Train: 0.8785214434885864 RS: 33\n",
      "Test: 0.9267892573908646 Train: 0.8702662292694663 RS: 36\n",
      "Test: 0.8838793560399929 Train: 0.8800688227985995 RS: 39\n",
      "Test: 0.8844478765150428 Train: 0.8813491930707558 RS: 41\n",
      "Test: 0.9007771627765582 Train: 0.8765992573777661 RS: 42\n",
      "Test: 0.9284969555260186 Train: 0.8700497728501955 RS: 43\n",
      "Test: 0.9059526854394107 Train: 0.876346982729537 RS: 51\n",
      "Test: 0.9251165913284146 Train: 0.8704406712405373 RS: 53\n",
      "Test: 0.9050136518587468 Train: 0.8770913176463557 RS: 54\n",
      "Test: 0.9068318817738126 Train: 0.8762503215272537 RS: 55\n",
      "Test: 0.8892960606044227 Train: 0.8809936684719707 RS: 56\n",
      "Test: 0.924598601633781 Train: 0.8711548950334295 RS: 59\n",
      "Test: 0.8882503381529235 Train: 0.8804865002671306 RS: 60\n",
      "Test: 0.9092103985654844 Train: 0.8771446165226356 RS: 63\n",
      "Test: 0.8950121815308969 Train: 0.8790196408335913 RS: 65\n",
      "Test: 0.8899965936608416 Train: 0.8794018321454065 RS: 66\n",
      "Test: 0.8832880521345488 Train: 0.881157862396269 RS: 67\n",
      "Test: 0.9225241844001862 Train: 0.8686953576383335 RS: 69\n",
      "Test: 0.9138580217286599 Train: 0.870734082227521 RS: 70\n",
      "Test: 0.8970157624829693 Train: 0.8784082978626022 RS: 72\n",
      "Test: 0.9085465502358739 Train: 0.8758579609757314 RS: 75\n",
      "Test: 0.9382917999578516 Train: 0.8675944013762792 RS: 77\n",
      "Test: 0.8877949860368323 Train: 0.8812220310708373 RS: 78\n",
      "Test: 0.939911301191361 Train: 0.8645264046425819 RS: 83\n",
      "Test: 0.9023949434535572 Train: 0.8772623579343035 RS: 84\n",
      "Test: 0.8831692232779386 Train: 0.8806248879989429 RS: 89\n",
      "Test: 0.8848450513870952 Train: 0.8730417776722044 RS: 91\n",
      "Test: 0.9526994837409 Train: 0.860105095923587 RS: 92\n",
      "Test: 0.9121424882261511 Train: 0.8743480159669906 RS: 93\n",
      "Test: 0.8916205241886261 Train: 0.8762625189809836 RS: 95\n",
      "Test: 0.9176013620233399 Train: 0.8704470634265387 RS: 97\n",
      "Test: 0.9397045510672923 Train: 0.8625607975840277 RS: 98\n",
      "Test: 0.9206344077237104 Train: 0.8739859973527951 RS: 100\n",
      "Test: 0.9308685611733174 Train: 0.8689529158252215 RS: 101\n",
      "Test: 0.8982339365554366 Train: 0.8773629158179705 RS: 102\n",
      "Test: 0.9163590373754483 Train: 0.8735768876953173 RS: 103\n",
      "Test: 0.8843311993462158 Train: 0.8817825609460883 RS: 105\n",
      "Test: 0.889497978515601 Train: 0.8798144932548384 RS: 108\n",
      "Test: 0.9409533695162462 Train: 0.8633693070179296 RS: 110\n",
      "Test: 0.9230308266297188 Train: 0.8725483315028114 RS: 113\n",
      "Test: 0.9010660906687784 Train: 0.8757977233085483 RS: 114\n",
      "Test: 0.908505749567924 Train: 0.8708280240191628 RS: 115\n",
      "Test: 0.9093371135006661 Train: 0.8762458930350885 RS: 118\n",
      "Test: 0.8921450580148614 Train: 0.8796920731510729 RS: 123\n",
      "Test: 0.890128768415682 Train: 0.8778616318858796 RS: 124\n",
      "Test: 0.8888104937267357 Train: 0.8787154631330761 RS: 126\n",
      "Test: 0.8916778559481671 Train: 0.8776067849403313 RS: 128\n",
      "Test: 0.9340438219209359 Train: 0.8687257686714633 RS: 129\n",
      "Test: 0.891735993195363 Train: 0.8795761756062354 RS: 130\n",
      "Test: 0.8941140701177422 Train: 0.8794918432776886 RS: 131\n",
      "Test: 0.8825531337029411 Train: 0.8825319065895648 RS: 132\n",
      "Test: 0.9199876266224992 Train: 0.871992921851932 RS: 134\n",
      "Test: 0.9324130415447469 Train: 0.8671052665173293 RS: 137\n",
      "Test: 0.9216137216392741 Train: 0.8672093638388958 RS: 138\n",
      "Test: 0.9220946053616447 Train: 0.8609832057390504 RS: 139\n",
      "Test: 0.8916689079632826 Train: 0.8794417841113226 RS: 144\n",
      "Test: 0.8994823239219042 Train: 0.8783052147174845 RS: 146\n",
      "Test: 0.9139339884655545 Train: 0.872012212218719 RS: 148\n",
      "Test: 0.9541408856178878 Train: 0.8611549365252226 RS: 151\n",
      "Test: 0.9352206060627679 Train: 0.8665632813118218 RS: 154\n",
      "Test: 0.9079767225096531 Train: 0.8739643306955598 RS: 158\n",
      "Test: 0.9173213162583747 Train: 0.8720833729336023 RS: 161\n",
      "Test: 0.8846507244714472 Train: 0.8821538292303537 RS: 163\n",
      "Test: 0.9234407321912452 Train: 0.8622178651624862 RS: 164\n",
      "Test: 0.8981642625218821 Train: 0.8773795902250339 RS: 168\n",
      "Test: 0.9005043392239214 Train: 0.8765819461099031 RS: 169\n",
      "Test: 0.9028005821621089 Train: 0.8778055123174588 RS: 171\n",
      "Test: 0.8847365656208482 Train: 0.8793260475591729 RS: 172\n",
      "Test: 0.9068240603065134 Train: 0.8742651349778003 RS: 174\n",
      "Test: 0.9193718185065353 Train: 0.8731316410107324 RS: 175\n",
      "Test: 0.9250014721879684 Train: 0.8739077336465838 RS: 179\n",
      "Test: 0.911089635589965 Train: 0.8753742932067234 RS: 181\n",
      "Test: 0.9187065874233771 Train: 0.8747478544964793 RS: 182\n",
      "Test: 0.8864405507854849 Train: 0.8797327174412506 RS: 185\n",
      "Test: 0.9374637743666738 Train: 0.8566675893295856 RS: 187\n",
      "Test: 0.8980259379145111 Train: 0.8770448575024772 RS: 190\n",
      "Test: 0.9133198811225129 Train: 0.8754227208539838 RS: 193\n",
      "Test: 0.9206783164520748 Train: 0.8698299036240217 RS: 194\n",
      "Test: 0.8861054545954856 Train: 0.8810789405718955 RS: 197\n",
      "The random state for the max test score  of 0.9541408856178878 is 151  \n",
      "Since test score is greater than train score this model from correlation analysis with TV and Radio is good\n",
      "Co-efficients: \n",
      "[3.91402252 2.74772098]\n",
      "Intercept: \n",
      "13.939590928962632\n",
      " Train score 0.8611549365252226 \n",
      " Test score 0.9541408856178878 \n"
     ]
    }
   ],
   "source": [
    "tv_radio = ideal_features[:, 0:2] #Let us use standardized data as it will help saving  training time\n",
    "\n",
    "max_test_score ,random_state, hit = determine_RS(tv_radio, label)\n",
    "\n",
    "print (\"The random state for the max test score  of %r is %r  \" % (max_test_score, random_state))\n",
    "if hit:\n",
    "    print (\"Since test score is greater than train score this model from correlation analysis with TV and Radio is good\")\n",
    "#Conclusion: HEnce standardization will show no variation in output ; We are getting same resuts as previously\n",
    "apply_best_RS(random_state, tv_radio)"
   ]
  },
  {
   "cell_type": "markdown",
   "metadata": {},
   "source": [
    "## Step 3: Let us apply RFE analysis: (Recursive Feature Elimination )"
   ]
  },
  {
   "cell_type": "code",
   "execution_count": 41,
   "metadata": {},
   "outputs": [],
   "source": [
    "#RFE can be applied only to the following algorithm\n",
    "#\n",
    "# 1. Regression (Algorithms that support coeff variables)\n",
    "#    - LinearRegression\n",
    "#    - SupportVectorRegressor\n",
    "#.   - DecisionTreeRegressor\n",
    "#.   - RandomForestRegressor\n",
    "\n",
    "# 2. Classification (Algorithms that support feature Importance variable)\n",
    "#    - DecisionTreeClassifier\n",
    "#    - RandomForestClassifier"
   ]
  },
  {
   "cell_type": "code",
   "execution_count": 42,
   "metadata": {},
   "outputs": [
    {
     "name": "stdout",
     "output_type": "stream",
     "text": [
      "Index(['SrNo', 'TV', 'radio', 'newspaper', 'sales'], dtype='object')\n",
      "[3 1 1 2]\n",
      "[False  True  True False]\n"
     ]
    },
    {
     "name": "stderr",
     "output_type": "stream",
     "text": [
      "C:\\Users\\Reena\\Anaconda3\\lib\\site-packages\\sklearn\\utils\\validation.py:724: DataConversionWarning: A column-vector y was passed when a 1d array was expected. Please change the shape of y to (n_samples, ), for example using ravel().\n",
      "  y = column_or_1d(y, warn=True)\n"
     ]
    }
   ],
   "source": [
    "#Given problem statement is definitely a regression problem.\n",
    "\n",
    "#3. a Liner Regression Model \n",
    "features = df.iloc[:,:-1].values\n",
    "label = df.iloc[:,[-1]].values\n",
    "\n",
    "#3.a Initialize the model's algorithm\n",
    "from sklearn.feature_selection import RFE\n",
    "from sklearn.linear_model import LinearRegression\n",
    "\n",
    "def apply_RFE(modelForRFE):\n",
    "    #Apply RFE to model (ALL FEATURES and Label)\n",
    "    selectFeaturesRFE = RFE(estimator=modelForRFE,\n",
    "                           step = 1) #Eliminate Feature One by One at each iteration\n",
    "    selectFeaturesRFE.fit(features,label)\n",
    "    #Get Features with High Ranking\n",
    "    print(df.columns)\n",
    "    print(selectFeaturesRFE.ranking_)\n",
    "    print(selectFeaturesRFE.support_)\n",
    "\n",
    "apply_RFE(LinearRegression())\n",
    "\n",
    "#Conclusion: Applying Linear Regression suggests to use TV and Radio"
   ]
  },
  {
   "cell_type": "code",
   "execution_count": 43,
   "metadata": {},
   "outputs": [],
   "source": [
    "#Supress warnings\n",
    "import warnings\n",
    "warnings.filterwarnings('ignore')"
   ]
  },
  {
   "cell_type": "code",
   "execution_count": 44,
   "metadata": {},
   "outputs": [
    {
     "name": "stdout",
     "output_type": "stream",
     "text": [
      "Index(['SrNo', 'TV', 'radio', 'newspaper', 'sales'], dtype='object')\n",
      "[2 1 1 3]\n",
      "[False  True  True False]\n"
     ]
    }
   ],
   "source": [
    "#3.b Decision Tree Regressor\n",
    "from sklearn.tree import DecisionTreeRegressor\n",
    "apply_RFE(DecisionTreeRegressor())\n",
    "\n",
    "#Conclusion: Applying Decision Tree Regressor suggests to use TV and Radio"
   ]
  },
  {
   "cell_type": "code",
   "execution_count": 45,
   "metadata": {},
   "outputs": [
    {
     "name": "stdout",
     "output_type": "stream",
     "text": [
      "Index(['SrNo', 'TV', 'radio', 'newspaper', 'sales'], dtype='object')\n",
      "[3 1 1 2]\n",
      "[False  True  True False]\n"
     ]
    }
   ],
   "source": [
    "#3.c Random Forest Regressor\n",
    "from sklearn.ensemble import RandomForestRegressor\n",
    "apply_RFE(RandomForestRegressor())\n",
    "\n",
    "#Conclusion: Applying Random Forest Regressor suggests to use TV and Radio"
   ]
  },
  {
   "cell_type": "markdown",
   "metadata": {},
   "source": [
    "## Step 4  : Backward Elimination:"
   ]
  },
  {
   "cell_type": "code",
   "execution_count": 48,
   "metadata": {},
   "outputs": [
    {
     "data": {
      "text/plain": [
       "array([[  1. ,   1. , 230.1,  37.8,  30.5],\n",
       "       [  1. ,   2. ,  44.5,  39.3,  45.1],\n",
       "       [  1. ,   3. ,  17.2,  45.9,  69.3],\n",
       "       [  1. ,   4. , 151.5,  23.2,  58.5],\n",
       "       [  1. ,   5. , 180.8,  10.8,  58.4],\n",
       "       [  1. ,   6. ,   8.7,  48.9,  75. ],\n",
       "       [  1. ,   7. ,  57.5,  32.8,  23.5],\n",
       "       [  1. ,   8. , 120.2,  19.6,  11.6],\n",
       "       [  1. ,   9. ,   8.6,   2.1,  30.5],\n",
       "       [  1. ,  10. , 199.8,   2.6,  21.2],\n",
       "       [  1. ,  11. ,  66.1,   5.8,  24.2],\n",
       "       [  1. ,  12. , 214.7,  24. ,   4. ],\n",
       "       [  1. ,  13. ,  23.8,  35.1,  65.9],\n",
       "       [  1. ,  14. ,  97.5,   7.6,   7.2],\n",
       "       [  1. ,  15. , 204.1,  32.9,  46. ],\n",
       "       [  1. ,  16. , 195.4,  47.7,  52.9],\n",
       "       [  1. ,  17. ,  67.8,  36.6, 114. ],\n",
       "       [  1. ,  18. , 281.4,  39.6,  55.8],\n",
       "       [  1. ,  19. ,  69.2,  20.5,  18.3],\n",
       "       [  1. ,  20. , 147.3,  23.9,  19.1],\n",
       "       [  1. ,  21. , 218.4,  27.7,  53.4],\n",
       "       [  1. ,  22. , 237.4,   5.1,  23.5],\n",
       "       [  1. ,  23. ,  13.2,  15.9,  49.6],\n",
       "       [  1. ,  24. , 228.3,  16.9,  26.2],\n",
       "       [  1. ,  25. ,  62.3,  12.6,  18.3],\n",
       "       [  1. ,  26. , 262.9,   3.5,  19.5],\n",
       "       [  1. ,  27. , 142.9,  29.3,  12.6],\n",
       "       [  1. ,  28. , 240.1,  16.7,  22.9],\n",
       "       [  1. ,  29. , 248.8,  27.1,  22.9],\n",
       "       [  1. ,  30. ,  70.6,  16. ,  40.8],\n",
       "       [  1. ,  31. , 292.9,  28.3,  43.2],\n",
       "       [  1. ,  32. , 112.9,  17.4,  38.6],\n",
       "       [  1. ,  33. ,  97.2,   1.5,  30. ],\n",
       "       [  1. ,  34. , 147.1,  20. ,   0.3],\n",
       "       [  1. ,  35. ,  95.7,   1.4,   7.4],\n",
       "       [  1. ,  36. , 290.7,   4.1,   8.5],\n",
       "       [  1. ,  37. , 266.9,  43.8,   5. ],\n",
       "       [  1. ,  38. ,  74.7,  49.4,  45.7],\n",
       "       [  1. ,  39. ,  43.1,  26.7,  35.1],\n",
       "       [  1. ,  40. , 228. ,  37.7,  32. ],\n",
       "       [  1. ,  41. , 202.5,  22.3,  31.6],\n",
       "       [  1. ,  42. , 177. ,  33.4,  38.7],\n",
       "       [  1. ,  43. , 293.6,  27.7,   1.8],\n",
       "       [  1. ,  44. , 206.9,   8.4,  26.4],\n",
       "       [  1. ,  45. ,  25.1,  25.7,  43.3],\n",
       "       [  1. ,  46. , 175.1,  22.5,  31.5],\n",
       "       [  1. ,  47. ,  89.7,   9.9,  35.7],\n",
       "       [  1. ,  48. , 239.9,  41.5,  18.5],\n",
       "       [  1. ,  49. , 227.2,  15.8,  49.9],\n",
       "       [  1. ,  50. ,  66.9,  11.7,  36.8],\n",
       "       [  1. ,  51. , 199.8,   3.1,  34.6],\n",
       "       [  1. ,  52. , 100.4,   9.6,   3.6],\n",
       "       [  1. ,  53. , 216.4,  41.7,  39.6],\n",
       "       [  1. ,  54. , 182.6,  46.2,  58.7],\n",
       "       [  1. ,  55. , 262.7,  28.8,  15.9],\n",
       "       [  1. ,  56. , 198.9,  49.4,  60. ],\n",
       "       [  1. ,  57. ,   7.3,  28.1,  41.4],\n",
       "       [  1. ,  58. , 136.2,  19.2,  16.6],\n",
       "       [  1. ,  59. , 210.8,  49.6,  37.7],\n",
       "       [  1. ,  60. , 210.7,  29.5,   9.3],\n",
       "       [  1. ,  61. ,  53.5,   2. ,  21.4],\n",
       "       [  1. ,  62. , 261.3,  42.7,  54.7],\n",
       "       [  1. ,  63. , 239.3,  15.5,  27.3],\n",
       "       [  1. ,  64. , 102.7,  29.6,   8.4],\n",
       "       [  1. ,  65. , 131.1,  42.8,  28.9],\n",
       "       [  1. ,  66. ,  69. ,   9.3,   0.9],\n",
       "       [  1. ,  67. ,  31.5,  24.6,   2.2],\n",
       "       [  1. ,  68. , 139.3,  14.5,  10.2],\n",
       "       [  1. ,  69. , 237.4,  27.5,  11. ],\n",
       "       [  1. ,  70. , 216.8,  43.9,  27.2],\n",
       "       [  1. ,  71. , 199.1,  30.6,  38.7],\n",
       "       [  1. ,  72. , 109.8,  14.3,  31.7],\n",
       "       [  1. ,  73. , 147.1,  33. ,  19.3],\n",
       "       [  1. ,  74. , 129.4,   5.7,  31.3],\n",
       "       [  1. ,  75. , 213.4,  24.6,  13.1],\n",
       "       [  1. ,  76. ,  16.9,  43.7,  89.4],\n",
       "       [  1. ,  77. ,  27.5,   1.6,  20.7],\n",
       "       [  1. ,  78. , 120.5,  28.5,  14.2],\n",
       "       [  1. ,  79. ,   5.4,  29.9,   9.4],\n",
       "       [  1. ,  80. , 116. ,   7.7,  23.1],\n",
       "       [  1. ,  81. ,  76.4,  26.7,  22.3],\n",
       "       [  1. ,  82. , 239.8,   4.1,  36.9],\n",
       "       [  1. ,  83. ,  75.3,  20.3,  32.5],\n",
       "       [  1. ,  84. ,  68.4,  44.5,  35.6],\n",
       "       [  1. ,  85. , 213.5,  43. ,  33.8],\n",
       "       [  1. ,  86. , 193.2,  18.4,  65.7],\n",
       "       [  1. ,  87. ,  76.3,  27.5,  16. ],\n",
       "       [  1. ,  88. , 110.7,  40.6,  63.2],\n",
       "       [  1. ,  89. ,  88.3,  25.5,  73.4],\n",
       "       [  1. ,  90. , 109.8,  47.8,  51.4],\n",
       "       [  1. ,  91. , 134.3,   4.9,   9.3],\n",
       "       [  1. ,  92. ,  28.6,   1.5,  33. ],\n",
       "       [  1. ,  93. , 217.7,  33.5,  59. ],\n",
       "       [  1. ,  94. , 250.9,  36.5,  72.3],\n",
       "       [  1. ,  95. , 107.4,  14. ,  10.9],\n",
       "       [  1. ,  96. , 163.3,  31.6,  52.9],\n",
       "       [  1. ,  97. , 197.6,   3.5,   5.9],\n",
       "       [  1. ,  98. , 184.9,  21. ,  22. ],\n",
       "       [  1. ,  99. , 289.7,  42.3,  51.2],\n",
       "       [  1. , 100. , 135.2,  41.7,  45.9],\n",
       "       [  1. , 101. , 222.4,   4.3,  49.8],\n",
       "       [  1. , 102. , 296.4,  36.3, 100.9],\n",
       "       [  1. , 103. , 280.2,  10.1,  21.4],\n",
       "       [  1. , 104. , 187.9,  17.2,  17.9],\n",
       "       [  1. , 105. , 238.2,  34.3,   5.3],\n",
       "       [  1. , 106. , 137.9,  46.4,  59. ],\n",
       "       [  1. , 107. ,  25. ,  11. ,  29.7],\n",
       "       [  1. , 108. ,  90.4,   0.3,  23.2],\n",
       "       [  1. , 109. ,  13.1,   0.4,  25.6],\n",
       "       [  1. , 110. , 255.4,  26.9,   5.5],\n",
       "       [  1. , 111. , 225.8,   8.2,  56.5],\n",
       "       [  1. , 112. , 241.7,  38. ,  23.2],\n",
       "       [  1. , 113. , 175.7,  15.4,   2.4],\n",
       "       [  1. , 114. , 209.6,  20.6,  10.7],\n",
       "       [  1. , 115. ,  78.2,  46.8,  34.5],\n",
       "       [  1. , 116. ,  75.1,  35. ,  52.7],\n",
       "       [  1. , 117. , 139.2,  14.3,  25.6],\n",
       "       [  1. , 118. ,  76.4,   0.8,  14.8],\n",
       "       [  1. , 119. , 125.7,  36.9,  79.2],\n",
       "       [  1. , 120. ,  19.4,  16. ,  22.3],\n",
       "       [  1. , 121. , 141.3,  26.8,  46.2],\n",
       "       [  1. , 122. ,  18.8,  21.7,  50.4],\n",
       "       [  1. , 123. , 224. ,   2.4,  15.6],\n",
       "       [  1. , 124. , 123.1,  34.6,  12.4],\n",
       "       [  1. , 125. , 229.5,  32.3,  74.2],\n",
       "       [  1. , 126. ,  87.2,  11.8,  25.9],\n",
       "       [  1. , 127. ,   7.8,  38.9,  50.6],\n",
       "       [  1. , 128. ,  80.2,   0. ,   9.2],\n",
       "       [  1. , 129. , 220.3,  49. ,   3.2],\n",
       "       [  1. , 130. ,  59.6,  12. ,  43.1],\n",
       "       [  1. , 131. ,   0.7,  39.6,   8.7],\n",
       "       [  1. , 132. , 265.2,   2.9,  43. ],\n",
       "       [  1. , 133. ,   8.4,  27.2,   2.1],\n",
       "       [  1. , 134. , 219.8,  33.5,  45.1],\n",
       "       [  1. , 135. ,  36.9,  38.6,  65.6],\n",
       "       [  1. , 136. ,  48.3,  47. ,   8.5],\n",
       "       [  1. , 137. ,  25.6,  39. ,   9.3],\n",
       "       [  1. , 138. , 273.7,  28.9,  59.7],\n",
       "       [  1. , 139. ,  43. ,  25.9,  20.5],\n",
       "       [  1. , 140. , 184.9,  43.9,   1.7],\n",
       "       [  1. , 141. ,  73.4,  17. ,  12.9],\n",
       "       [  1. , 142. , 193.7,  35.4,  75.6],\n",
       "       [  1. , 143. , 220.5,  33.2,  37.9],\n",
       "       [  1. , 144. , 104.6,   5.7,  34.4],\n",
       "       [  1. , 145. ,  96.2,  14.8,  38.9],\n",
       "       [  1. , 146. , 140.3,   1.9,   9. ],\n",
       "       [  1. , 147. , 240.1,   7.3,   8.7],\n",
       "       [  1. , 148. , 243.2,  49. ,  44.3],\n",
       "       [  1. , 149. ,  38. ,  40.3,  11.9],\n",
       "       [  1. , 150. ,  44.7,  25.8,  20.6],\n",
       "       [  1. , 151. , 280.7,  13.9,  37. ],\n",
       "       [  1. , 152. , 121. ,   8.4,  48.7],\n",
       "       [  1. , 153. , 197.6,  23.3,  14.2],\n",
       "       [  1. , 154. , 171.3,  39.7,  37.7],\n",
       "       [  1. , 155. , 187.8,  21.1,   9.5],\n",
       "       [  1. , 156. ,   4.1,  11.6,   5.7],\n",
       "       [  1. , 157. ,  93.9,  43.5,  50.5],\n",
       "       [  1. , 158. , 149.8,   1.3,  24.3],\n",
       "       [  1. , 159. ,  11.7,  36.9,  45.2],\n",
       "       [  1. , 160. , 131.7,  18.4,  34.6],\n",
       "       [  1. , 161. , 172.5,  18.1,  30.7],\n",
       "       [  1. , 162. ,  85.7,  35.8,  49.3],\n",
       "       [  1. , 163. , 188.4,  18.1,  25.6],\n",
       "       [  1. , 164. , 163.5,  36.8,   7.4],\n",
       "       [  1. , 165. , 117.2,  14.7,   5.4],\n",
       "       [  1. , 166. , 234.5,   3.4,  84.8],\n",
       "       [  1. , 167. ,  17.9,  37.6,  21.6],\n",
       "       [  1. , 168. , 206.8,   5.2,  19.4],\n",
       "       [  1. , 169. , 215.4,  23.6,  57.6],\n",
       "       [  1. , 170. , 284.3,  10.6,   6.4],\n",
       "       [  1. , 171. ,  50. ,  11.6,  18.4],\n",
       "       [  1. , 172. , 164.5,  20.9,  47.4],\n",
       "       [  1. , 173. ,  19.6,  20.1,  17. ],\n",
       "       [  1. , 174. , 168.4,   7.1,  12.8],\n",
       "       [  1. , 175. , 222.4,   3.4,  13.1],\n",
       "       [  1. , 176. , 276.9,  48.9,  41.8],\n",
       "       [  1. , 177. , 248.4,  30.2,  20.3],\n",
       "       [  1. , 178. , 170.2,   7.8,  35.2],\n",
       "       [  1. , 179. , 276.7,   2.3,  23.7],\n",
       "       [  1. , 180. , 165.6,  10. ,  17.6],\n",
       "       [  1. , 181. , 156.6,   2.6,   8.3],\n",
       "       [  1. , 182. , 218.5,   5.4,  27.4],\n",
       "       [  1. , 183. ,  56.2,   5.7,  29.7],\n",
       "       [  1. , 184. , 287.6,  43. ,  71.8],\n",
       "       [  1. , 185. , 253.8,  21.3,  30. ],\n",
       "       [  1. , 186. , 205. ,  45.1,  19.6],\n",
       "       [  1. , 187. , 139.5,   2.1,  26.6],\n",
       "       [  1. , 188. , 191.1,  28.7,  18.2],\n",
       "       [  1. , 189. , 286. ,  13.9,   3.7],\n",
       "       [  1. , 190. ,  18.7,  12.1,  23.4],\n",
       "       [  1. , 191. ,  39.5,  41.1,   5.8],\n",
       "       [  1. , 192. ,  75.5,  10.8,   6. ],\n",
       "       [  1. , 193. ,  17.2,   4.1,  31.6],\n",
       "       [  1. , 194. , 166.8,  42. ,   3.6],\n",
       "       [  1. , 195. , 149.7,  35.6,   6. ],\n",
       "       [  1. , 196. ,  38.2,   3.7,  13.8],\n",
       "       [  1. , 197. ,  94.2,   4.9,   8.1],\n",
       "       [  1. , 198. , 177. ,   9.3,   6.4],\n",
       "       [  1. , 199. , 283.6,  42. ,  66.2],\n",
       "       [  1. , 200. , 232.1,   8.6,   8.7]])"
      ]
     },
     "execution_count": 48,
     "metadata": {},
     "output_type": "execute_result"
    }
   ],
   "source": [
    "# Step1: Perform ALL IN\n",
    "features = df.iloc[:,:-1].values\n",
    "label = df.iloc[:,[-1]].values\n",
    "featuresAllIn = np.append(np.ones((200,1)).astype(int) , features, axis=1)\n",
    "featuresAllIn\n"
   ]
  },
  {
   "cell_type": "code",
   "execution_count": 51,
   "metadata": {},
   "outputs": [
    {
     "data": {
      "text/html": [
       "<table class=\"simpletable\">\n",
       "<caption>OLS Regression Results</caption>\n",
       "<tr>\n",
       "  <th>Dep. Variable:</th>            <td>y</td>        <th>  R-squared:         </th> <td>   0.883</td>\n",
       "</tr>\n",
       "<tr>\n",
       "  <th>Model:</th>                   <td>OLS</td>       <th>  Adj. R-squared:    </th> <td>   0.881</td>\n",
       "</tr>\n",
       "<tr>\n",
       "  <th>Method:</th>             <td>Least Squares</td>  <th>  F-statistic:       </th> <td>   367.8</td>\n",
       "</tr>\n",
       "<tr>\n",
       "  <th>Date:</th>             <td>Sat, 22 Feb 2020</td> <th>  Prob (F-statistic):</th> <td>1.27e-89</td>\n",
       "</tr>\n",
       "<tr>\n",
       "  <th>Time:</th>                 <td>11:01:46</td>     <th>  Log-Likelihood:    </th> <td> -399.17</td>\n",
       "</tr>\n",
       "<tr>\n",
       "  <th>No. Observations:</th>      <td>   200</td>      <th>  AIC:               </th> <td>   808.3</td>\n",
       "</tr>\n",
       "<tr>\n",
       "  <th>Df Residuals:</th>          <td>   195</td>      <th>  BIC:               </th> <td>   824.8</td>\n",
       "</tr>\n",
       "<tr>\n",
       "  <th>Df Model:</th>              <td>     4</td>      <th>                     </th>     <td> </td>   \n",
       "</tr>\n",
       "<tr>\n",
       "  <th>Covariance Type:</th>      <td>nonrobust</td>    <th>                     </th>     <td> </td>   \n",
       "</tr>\n",
       "</table>\n",
       "<table class=\"simpletable\">\n",
       "<tr>\n",
       "    <td></td>       <th>coef</th>     <th>std err</th>      <th>t</th>      <th>P>|t|</th>  <th>[0.025</th>    <th>0.975]</th>  \n",
       "</tr>\n",
       "<tr>\n",
       "  <th>const</th> <td>    3.1645</td> <td>    0.422</td> <td>    7.493</td> <td> 0.000</td> <td>    2.332</td> <td>    3.997</td>\n",
       "</tr>\n",
       "<tr>\n",
       "  <th>x1</th>    <td>   -0.0015</td> <td>    0.002</td> <td>   -0.651</td> <td> 0.516</td> <td>   -0.006</td> <td>    0.003</td>\n",
       "</tr>\n",
       "<tr>\n",
       "  <th>x2</th>    <td>    0.0458</td> <td>    0.002</td> <td>   30.387</td> <td> 0.000</td> <td>    0.043</td> <td>    0.049</td>\n",
       "</tr>\n",
       "<tr>\n",
       "  <th>x3</th>    <td>    0.1861</td> <td>    0.009</td> <td>   20.249</td> <td> 0.000</td> <td>    0.168</td> <td>    0.204</td>\n",
       "</tr>\n",
       "<tr>\n",
       "  <th>x4</th>    <td>   -0.0015</td> <td>    0.006</td> <td>   -0.233</td> <td> 0.816</td> <td>   -0.014</td> <td>    0.011</td>\n",
       "</tr>\n",
       "</table>\n",
       "<table class=\"simpletable\">\n",
       "<tr>\n",
       "  <th>Omnibus:</th>       <td>59.672</td> <th>  Durbin-Watson:     </th> <td>   2.094</td>\n",
       "</tr>\n",
       "<tr>\n",
       "  <th>Prob(Omnibus):</th> <td> 0.000</td> <th>  Jarque-Bera (JB):  </th> <td> 151.055</td>\n",
       "</tr>\n",
       "<tr>\n",
       "  <th>Skew:</th>          <td>-1.305</td> <th>  Prob(JB):          </th> <td>1.58e-33</td>\n",
       "</tr>\n",
       "<tr>\n",
       "  <th>Kurtosis:</th>      <td> 6.364</td> <th>  Cond. No.          </th> <td>    655.</td>\n",
       "</tr>\n",
       "</table><br/><br/>Warnings:<br/>[1] Standard Errors assume that the covariance matrix of the errors is correctly specified."
      ],
      "text/plain": [
       "<class 'statsmodels.iolib.summary.Summary'>\n",
       "\"\"\"\n",
       "                            OLS Regression Results                            \n",
       "==============================================================================\n",
       "Dep. Variable:                      y   R-squared:                       0.883\n",
       "Model:                            OLS   Adj. R-squared:                  0.881\n",
       "Method:                 Least Squares   F-statistic:                     367.8\n",
       "Date:                Sat, 22 Feb 2020   Prob (F-statistic):           1.27e-89\n",
       "Time:                        11:01:46   Log-Likelihood:                -399.17\n",
       "No. Observations:                 200   AIC:                             808.3\n",
       "Df Residuals:                     195   BIC:                             824.8\n",
       "Df Model:                           4                                         \n",
       "Covariance Type:            nonrobust                                         \n",
       "==============================================================================\n",
       "                 coef    std err          t      P>|t|      [0.025      0.975]\n",
       "------------------------------------------------------------------------------\n",
       "const          3.1645      0.422      7.493      0.000       2.332       3.997\n",
       "x1            -0.0015      0.002     -0.651      0.516      -0.006       0.003\n",
       "x2             0.0458      0.002     30.387      0.000       0.043       0.049\n",
       "x3             0.1861      0.009     20.249      0.000       0.168       0.204\n",
       "x4            -0.0015      0.006     -0.233      0.816      -0.014       0.011\n",
       "==============================================================================\n",
       "Omnibus:                       59.672   Durbin-Watson:                   2.094\n",
       "Prob(Omnibus):                  0.000   Jarque-Bera (JB):              151.055\n",
       "Skew:                          -1.305   Prob(JB):                     1.58e-33\n",
       "Kurtosis:                       6.364   Cond. No.                         655.\n",
       "==============================================================================\n",
       "\n",
       "Warnings:\n",
       "[1] Standard Errors assume that the covariance matrix of the errors is correctly specified.\n",
       "\"\"\""
      ]
     },
     "execution_count": 51,
     "metadata": {},
     "output_type": "execute_result"
    }
   ],
   "source": [
    "# Step3: Perform OLS (To calc p value of each feature)\n",
    "\n",
    "import statsmodels.api as stat\n",
    "\n",
    "#endog --- label column --- numpy array\n",
    "#exog ---- feature column -- numpy array\n",
    "#OLS(endog,exog)\n",
    "\n",
    "model = stat.OLS(endog=label , exog=featuresAllIn).fit()\n",
    "model.summary()\n"
   ]
  },
  {
   "cell_type": "code",
   "execution_count": 638,
   "metadata": {},
   "outputs": [],
   "source": [
    "#Step4: Select the feature that has highest p value(max value)\n",
    "# x4 (Newspaper was elimninated)"
   ]
  },
  {
   "cell_type": "code",
   "execution_count": 639,
   "metadata": {},
   "outputs": [],
   "source": [
    "#Step5:\n",
    "newFeature1 = featuresAllIn[:,[0,1,2,3]]"
   ]
  },
  {
   "cell_type": "code",
   "execution_count": 640,
   "metadata": {},
   "outputs": [
    {
     "data": {
      "text/html": [
       "<table class=\"simpletable\">\n",
       "<caption>OLS Regression Results</caption>\n",
       "<tr>\n",
       "  <th>Dep. Variable:</th>            <td>y</td>        <th>  R-squared:         </th> <td>   0.883</td>\n",
       "</tr>\n",
       "<tr>\n",
       "  <th>Model:</th>                   <td>OLS</td>       <th>  Adj. R-squared:    </th> <td>   0.881</td>\n",
       "</tr>\n",
       "<tr>\n",
       "  <th>Method:</th>             <td>Least Squares</td>  <th>  F-statistic:       </th> <td>   492.7</td>\n",
       "</tr>\n",
       "<tr>\n",
       "  <th>Date:</th>             <td>Sun, 16 Feb 2020</td> <th>  Prob (F-statistic):</th> <td>5.41e-91</td>\n",
       "</tr>\n",
       "<tr>\n",
       "  <th>Time:</th>                 <td>13:39:12</td>     <th>  Log-Likelihood:    </th> <td> -399.20</td>\n",
       "</tr>\n",
       "<tr>\n",
       "  <th>No. Observations:</th>      <td>   200</td>      <th>  AIC:               </th> <td>   806.4</td>\n",
       "</tr>\n",
       "<tr>\n",
       "  <th>Df Residuals:</th>          <td>   196</td>      <th>  BIC:               </th> <td>   819.6</td>\n",
       "</tr>\n",
       "<tr>\n",
       "  <th>Df Model:</th>              <td>     3</td>      <th>                     </th>     <td> </td>   \n",
       "</tr>\n",
       "<tr>\n",
       "  <th>Covariance Type:</th>      <td>nonrobust</td>    <th>                     </th>     <td> </td>   \n",
       "</tr>\n",
       "</table>\n",
       "<table class=\"simpletable\">\n",
       "<tr>\n",
       "    <td></td>       <th>coef</th>     <th>std err</th>      <th>t</th>      <th>P>|t|</th>  <th>[0.025</th>    <th>0.975]</th>  \n",
       "</tr>\n",
       "<tr>\n",
       "  <th>const</th> <td>    3.1301</td> <td>    0.395</td> <td>    7.932</td> <td> 0.000</td> <td>    2.352</td> <td>    3.908</td>\n",
       "</tr>\n",
       "<tr>\n",
       "  <th>x1</th>    <td>   -0.0014</td> <td>    0.002</td> <td>   -0.628</td> <td> 0.531</td> <td>   -0.006</td> <td>    0.003</td>\n",
       "</tr>\n",
       "<tr>\n",
       "  <th>x2</th>    <td>    0.0458</td> <td>    0.002</td> <td>   30.466</td> <td> 0.000</td> <td>    0.043</td> <td>    0.049</td>\n",
       "</tr>\n",
       "<tr>\n",
       "  <th>x3</th>    <td>    0.1854</td> <td>    0.009</td> <td>   21.355</td> <td> 0.000</td> <td>    0.168</td> <td>    0.203</td>\n",
       "</tr>\n",
       "</table>\n",
       "<table class=\"simpletable\">\n",
       "<tr>\n",
       "  <th>Omnibus:</th>       <td>59.030</td> <th>  Durbin-Watson:     </th> <td>   2.090</td>\n",
       "</tr>\n",
       "<tr>\n",
       "  <th>Prob(Omnibus):</th> <td> 0.000</td> <th>  Jarque-Bera (JB):  </th> <td> 147.163</td>\n",
       "</tr>\n",
       "<tr>\n",
       "  <th>Skew:</th>          <td>-1.297</td> <th>  Prob(JB):          </th> <td>1.11e-32</td>\n",
       "</tr>\n",
       "<tr>\n",
       "  <th>Kurtosis:</th>      <td> 6.306</td> <th>  Cond. No.          </th> <td>    608.</td>\n",
       "</tr>\n",
       "</table><br/><br/>Warnings:<br/>[1] Standard Errors assume that the covariance matrix of the errors is correctly specified."
      ],
      "text/plain": [
       "<class 'statsmodels.iolib.summary.Summary'>\n",
       "\"\"\"\n",
       "                            OLS Regression Results                            \n",
       "==============================================================================\n",
       "Dep. Variable:                      y   R-squared:                       0.883\n",
       "Model:                            OLS   Adj. R-squared:                  0.881\n",
       "Method:                 Least Squares   F-statistic:                     492.7\n",
       "Date:                Sun, 16 Feb 2020   Prob (F-statistic):           5.41e-91\n",
       "Time:                        13:39:12   Log-Likelihood:                -399.20\n",
       "No. Observations:                 200   AIC:                             806.4\n",
       "Df Residuals:                     196   BIC:                             819.6\n",
       "Df Model:                           3                                         \n",
       "Covariance Type:            nonrobust                                         \n",
       "==============================================================================\n",
       "                 coef    std err          t      P>|t|      [0.025      0.975]\n",
       "------------------------------------------------------------------------------\n",
       "const          3.1301      0.395      7.932      0.000       2.352       3.908\n",
       "x1            -0.0014      0.002     -0.628      0.531      -0.006       0.003\n",
       "x2             0.0458      0.002     30.466      0.000       0.043       0.049\n",
       "x3             0.1854      0.009     21.355      0.000       0.168       0.203\n",
       "==============================================================================\n",
       "Omnibus:                       59.030   Durbin-Watson:                   2.090\n",
       "Prob(Omnibus):                  0.000   Jarque-Bera (JB):              147.163\n",
       "Skew:                          -1.297   Prob(JB):                     1.11e-32\n",
       "Kurtosis:                       6.306   Cond. No.                         608.\n",
       "==============================================================================\n",
       "\n",
       "Warnings:\n",
       "[1] Standard Errors assume that the covariance matrix of the errors is correctly specified.\n",
       "\"\"\""
      ]
     },
     "execution_count": 640,
     "metadata": {},
     "output_type": "execute_result"
    }
   ],
   "source": [
    "#Step6:\n",
    "model = stat.OLS(endog=label , exog=newFeature1).fit()\n",
    "model.summary()"
   ]
  },
  {
   "cell_type": "code",
   "execution_count": 641,
   "metadata": {},
   "outputs": [],
   "source": [
    "#Step7: Select the feature that has highest p value(max value)\n",
    "# x1 (SrNo was elimninated)\n",
    "\n",
    "newFeature2 = featuresAllIn[:,[0,2,3]]"
   ]
  },
  {
   "cell_type": "code",
   "execution_count": 642,
   "metadata": {},
   "outputs": [
    {
     "data": {
      "text/html": [
       "<table class=\"simpletable\">\n",
       "<caption>OLS Regression Results</caption>\n",
       "<tr>\n",
       "  <th>Dep. Variable:</th>            <td>y</td>        <th>  R-squared:         </th> <td>   0.883</td>\n",
       "</tr>\n",
       "<tr>\n",
       "  <th>Model:</th>                   <td>OLS</td>       <th>  Adj. R-squared:    </th> <td>   0.881</td>\n",
       "</tr>\n",
       "<tr>\n",
       "  <th>Method:</th>             <td>Least Squares</td>  <th>  F-statistic:       </th> <td>   741.1</td>\n",
       "</tr>\n",
       "<tr>\n",
       "  <th>Date:</th>             <td>Sun, 16 Feb 2020</td> <th>  Prob (F-statistic):</th> <td>2.14e-92</td>\n",
       "</tr>\n",
       "<tr>\n",
       "  <th>Time:</th>                 <td>13:39:13</td>     <th>  Log-Likelihood:    </th> <td> -399.40</td>\n",
       "</tr>\n",
       "<tr>\n",
       "  <th>No. Observations:</th>      <td>   200</td>      <th>  AIC:               </th> <td>   804.8</td>\n",
       "</tr>\n",
       "<tr>\n",
       "  <th>Df Residuals:</th>          <td>   197</td>      <th>  BIC:               </th> <td>   814.7</td>\n",
       "</tr>\n",
       "<tr>\n",
       "  <th>Df Model:</th>              <td>     2</td>      <th>                     </th>     <td> </td>   \n",
       "</tr>\n",
       "<tr>\n",
       "  <th>Covariance Type:</th>      <td>nonrobust</td>    <th>                     </th>     <td> </td>   \n",
       "</tr>\n",
       "</table>\n",
       "<table class=\"simpletable\">\n",
       "<tr>\n",
       "    <td></td>       <th>coef</th>     <th>std err</th>      <th>t</th>      <th>P>|t|</th>  <th>[0.025</th>    <th>0.975]</th>  \n",
       "</tr>\n",
       "<tr>\n",
       "  <th>const</th> <td>    2.9813</td> <td>    0.315</td> <td>    9.459</td> <td> 0.000</td> <td>    2.360</td> <td>    3.603</td>\n",
       "</tr>\n",
       "<tr>\n",
       "  <th>x1</th>    <td>    0.0458</td> <td>    0.002</td> <td>   30.508</td> <td> 0.000</td> <td>    0.043</td> <td>    0.049</td>\n",
       "</tr>\n",
       "<tr>\n",
       "  <th>x2</th>    <td>    0.1860</td> <td>    0.009</td> <td>   21.566</td> <td> 0.000</td> <td>    0.169</td> <td>    0.203</td>\n",
       "</tr>\n",
       "</table>\n",
       "<table class=\"simpletable\">\n",
       "<tr>\n",
       "  <th>Omnibus:</th>       <td>58.707</td> <th>  Durbin-Watson:     </th> <td>   2.087</td>\n",
       "</tr>\n",
       "<tr>\n",
       "  <th>Prob(Omnibus):</th> <td> 0.000</td> <th>  Jarque-Bera (JB):  </th> <td> 147.324</td>\n",
       "</tr>\n",
       "<tr>\n",
       "  <th>Skew:</th>          <td>-1.286</td> <th>  Prob(JB):          </th> <td>1.02e-32</td>\n",
       "</tr>\n",
       "<tr>\n",
       "  <th>Kurtosis:</th>      <td> 6.326</td> <th>  Cond. No.          </th> <td>    424.</td>\n",
       "</tr>\n",
       "</table><br/><br/>Warnings:<br/>[1] Standard Errors assume that the covariance matrix of the errors is correctly specified."
      ],
      "text/plain": [
       "<class 'statsmodels.iolib.summary.Summary'>\n",
       "\"\"\"\n",
       "                            OLS Regression Results                            \n",
       "==============================================================================\n",
       "Dep. Variable:                      y   R-squared:                       0.883\n",
       "Model:                            OLS   Adj. R-squared:                  0.881\n",
       "Method:                 Least Squares   F-statistic:                     741.1\n",
       "Date:                Sun, 16 Feb 2020   Prob (F-statistic):           2.14e-92\n",
       "Time:                        13:39:13   Log-Likelihood:                -399.40\n",
       "No. Observations:                 200   AIC:                             804.8\n",
       "Df Residuals:                     197   BIC:                             814.7\n",
       "Df Model:                           2                                         \n",
       "Covariance Type:            nonrobust                                         \n",
       "==============================================================================\n",
       "                 coef    std err          t      P>|t|      [0.025      0.975]\n",
       "------------------------------------------------------------------------------\n",
       "const          2.9813      0.315      9.459      0.000       2.360       3.603\n",
       "x1             0.0458      0.002     30.508      0.000       0.043       0.049\n",
       "x2             0.1860      0.009     21.566      0.000       0.169       0.203\n",
       "==============================================================================\n",
       "Omnibus:                       58.707   Durbin-Watson:                   2.087\n",
       "Prob(Omnibus):                  0.000   Jarque-Bera (JB):              147.324\n",
       "Skew:                          -1.286   Prob(JB):                     1.02e-32\n",
       "Kurtosis:                       6.326   Cond. No.                         424.\n",
       "==============================================================================\n",
       "\n",
       "Warnings:\n",
       "[1] Standard Errors assume that the covariance matrix of the errors is correctly specified.\n",
       "\"\"\""
      ]
     },
     "execution_count": 642,
     "metadata": {},
     "output_type": "execute_result"
    }
   ],
   "source": [
    "model = stat.OLS(endog=label , exog=newFeature2).fit()\n",
    "model.summary()"
   ]
  },
  {
   "cell_type": "code",
   "execution_count": 643,
   "metadata": {},
   "outputs": [],
   "source": [
    "#As per backward elimination also TV and Radio are the best features\n",
    "#Create a Model using State and R&D. Ensure you get accuracy greater than 95%\n",
    "#As per backward elimination also TV and Radio are the best features\n",
    "#Create a Model using State and R&D. Ensure you get accuracy greater than 95%"
   ]
  },
  {
   "cell_type": "markdown",
   "metadata": {},
   "source": [
    "## Step 5: Select by Model"
   ]
  },
  {
   "cell_type": "code",
   "execution_count": 644,
   "metadata": {},
   "outputs": [
    {
     "name": "stdout",
     "output_type": "stream",
     "text": [
      "Index(['SrNo', 'TV', 'radio', 'newspaper', 'sales'], dtype='object')\n",
      "[False False  True False]\n"
     ]
    }
   ],
   "source": [
    "# 1. Initialize the model's algorithm\n",
    "modelForSBM = LinearRegression()\n",
    "\n",
    "# 2. Apply SBM to model (ALL FEATURES and Label)\n",
    "from sklearn.feature_selection import SelectFromModel\n",
    "selectFeaturesSBM = SelectFromModel(modelForSBM)\n",
    "\n",
    "selectFeaturesSBM.fit(features,label)\n",
    "\n",
    "# 3. Get Features with High Ranking\n",
    "print(df.columns)\n",
    "print(selectFeaturesSBM.get_support())\n",
    "#SBM states that only radio have the best model\n"
   ]
  },
  {
   "cell_type": "code",
   "execution_count": 645,
   "metadata": {},
   "outputs": [
    {
     "name": "stdout",
     "output_type": "stream",
     "text": [
      "Test: 0.35966732886878416 Train: 0.31626357772580393 RS: 1\n",
      "Test: 0.3907698913447961 Train: 0.3142592253320028 RS: 3\n",
      "Test: 0.38042009851960135 Train: 0.2976686458609824 RS: 4\n",
      "Test: 0.39541582663307406 Train: 0.30812262046138994 RS: 5\n",
      "Test: 0.4424415979094061 Train: 0.2895168172002073 RS: 13\n",
      "Test: 0.3831809144601852 Train: 0.31006856558959606 RS: 15\n",
      "Test: 0.3957570660520424 Train: 0.31454939021834294 RS: 16\n",
      "Test: 0.3728219444419897 Train: 0.3121593131640541 RS: 18\n",
      "Test: 0.4090883190202069 Train: 0.29427443402377207 RS: 21\n",
      "Test: 0.4373300287424187 Train: 0.2884912347669317 RS: 23\n",
      "Test: 0.34740388195396443 Train: 0.32404529649986424 RS: 27\n",
      "Test: 0.3625214431604543 Train: 0.30508355991594194 RS: 31\n",
      "Test: 0.3720547711809563 Train: 0.315100342630413 RS: 33\n",
      "Test: 0.39926853779231875 Train: 0.3060704451808234 RS: 34\n",
      "Test: 0.43393710712423195 Train: 0.29739543289486015 RS: 36\n",
      "Test: 0.41488453187252194 Train: 0.3138293086166053 RS: 38\n",
      "Test: 0.3497760512835605 Train: 0.3182108188520413 RS: 41\n",
      "Test: 0.3586981908717881 Train: 0.3191058294724457 RS: 43\n",
      "Test: 0.3852284516236232 Train: 0.31384689282652334 RS: 45\n",
      "Test: 0.3969194074464073 Train: 0.3051896223907373 RS: 48\n",
      "Test: 0.4273487472237998 Train: 0.30301070749497394 RS: 51\n",
      "Test: 0.392871634685924 Train: 0.3057548990112027 RS: 57\n",
      "Test: 0.40962439620905444 Train: 0.3026487548899762 RS: 59\n",
      "Test: 0.4835282077764509 Train: 0.29076635276713514 RS: 64\n",
      "Test: 0.34503028220760024 Train: 0.3195689914533968 RS: 66\n",
      "Test: 0.42076693299278567 Train: 0.28499848270527395 RS: 69\n",
      "Test: 0.3990059387710325 Train: 0.28870405329573445 RS: 70\n",
      "Test: 0.5043452095157339 Train: 0.2774136578544928 RS: 77\n",
      "Test: 0.4133972489579024 Train: 0.28220994564828117 RS: 79\n",
      "Test: 0.3776131976615502 Train: 0.318219005696633 RS: 82\n",
      "Test: 0.3926566611251233 Train: 0.30535394652060577 RS: 83\n",
      "Test: 0.33463508953174936 Train: 0.325716970192537 RS: 84\n",
      "Test: 0.33457111134295703 Train: 0.32282997968179994 RS: 89\n",
      "Test: 0.4572877447645129 Train: 0.2774191017095281 RS: 92\n",
      "Test: 0.4013733021086342 Train: 0.307266465882136 RS: 93\n",
      "Test: 0.3346265514823733 Train: 0.3259030190437253 RS: 94\n",
      "Test: 0.442315060191612 Train: 0.28828398652861753 RS: 95\n",
      "Test: 0.32595246494620717 Train: 0.31938807330060837 RS: 96\n",
      "Test: 0.37713544223187284 Train: 0.30944928972255825 RS: 98\n",
      "Test: 0.3411208648930564 Train: 0.31699537037122116 RS: 99\n",
      "Test: 0.5366830280731787 Train: 0.28042257395821646 RS: 100\n",
      "Test: 0.351900899824808 Train: 0.32080271220153445 RS: 101\n",
      "Test: 0.35240713841670424 Train: 0.3209186713711851 RS: 103\n",
      "Test: 0.3606290279624873 Train: 0.3181850531014351 RS: 105\n",
      "Test: 0.45030932706571214 Train: 0.30439095005010175 RS: 106\n",
      "Test: 0.3472906449503502 Train: 0.3204249470627586 RS: 109\n",
      "Test: 0.41667814291792393 Train: 0.2813700621832885 RS: 110\n",
      "Test: 0.3642568539427847 Train: 0.3162430965894518 RS: 113\n",
      "Test: 0.3525195913995929 Train: 0.3179715427943497 RS: 114\n",
      "Test: 0.3865629373989232 Train: 0.28374612251996434 RS: 115\n",
      "Test: 0.4170253722360602 Train: 0.2888231425670653 RS: 117\n",
      "Test: 0.41697843599992557 Train: 0.2990397014154328 RS: 123\n",
      "Test: 0.3229055199636466 Train: 0.31455765579028105 RS: 128\n",
      "Test: 0.4259509395297756 Train: 0.29735031714438276 RS: 129\n",
      "Test: 0.38053046497038356 Train: 0.3118600531479814 RS: 130\n",
      "Test: 0.3906738239479717 Train: 0.3101486764638106 RS: 134\n",
      "Test: 0.42695263767121727 Train: 0.2892465279194536 RS: 137\n",
      "Test: 0.4252761506461058 Train: 0.28752556691214615 RS: 138\n",
      "Test: 0.35123633771896967 Train: 0.2664581051683621 RS: 139\n",
      "Test: 0.39512747234914425 Train: 0.30106920961051375 RS: 141\n",
      "Test: 0.3800982428655131 Train: 0.3133120733539494 RS: 144\n",
      "Test: 0.36334054506222324 Train: 0.31948301473310625 RS: 146\n",
      "Test: 0.42403832244146467 Train: 0.30897877235203375 RS: 149\n",
      "Test: 0.4220278881587671 Train: 0.29855388655966664 RS: 150\n",
      "Test: 0.46942565428221056 Train: 0.28355504790674757 RS: 151\n",
      "Test: 0.3946193142589872 Train: 0.314213737020013 RS: 152\n",
      "Test: 0.40661583390478406 Train: 0.3021339586393811 RS: 154\n",
      "Test: 0.338510792849256 Train: 0.32270176412476526 RS: 156\n",
      "Test: 0.34279321662084883 Train: 0.31763642139336457 RS: 158\n",
      "Test: 0.43841455185590816 Train: 0.29984280740797453 RS: 160\n",
      "Test: 0.33345849401954186 Train: 0.32040800284732607 RS: 161\n",
      "Test: 0.46186462486065216 Train: 0.24719672957117067 RS: 164\n",
      "Test: 0.34635982327722226 Train: 0.32180563596700207 RS: 168\n",
      "Test: 0.36058284810676744 Train: 0.31250780599315475 RS: 169\n",
      "Test: 0.38170311060210493 Train: 0.2964735241644465 RS: 174\n",
      "Test: 0.35921103488713046 Train: 0.32032493744068036 RS: 175\n",
      "Test: 0.3494264564609415 Train: 0.3219160500469995 RS: 176\n",
      "Test: 0.3804702286714263 Train: 0.3166923138200016 RS: 179\n",
      "Test: 0.3332401979376095 Train: 0.32594005461910736 RS: 180\n",
      "Test: 0.3869489265492341 Train: 0.31347332365793756 RS: 181\n",
      "Test: 0.43448239951116074 Train: 0.27746309675859704 RS: 185\n",
      "Test: 0.4318618832812001 Train: 0.2515422034884971 RS: 187\n",
      "Test: 0.45865023863426035 Train: 0.30160861760415014 RS: 188\n",
      "Test: 0.4267210430321152 Train: 0.29489491573419235 RS: 190\n",
      "Test: 0.5871968965836284 Train: 0.27751048991137417 RS: 193\n",
      "Test: 0.4558819159463333 Train: 0.2805379373902632 RS: 194\n",
      "Test: 0.34574867740340287 Train: 0.3204998629111425 RS: 195\n",
      "Test: 0.35089423279260945 Train: 0.3164539943933239 RS: 197\n",
      "Test: 0.41729602064904714 Train: 0.3035811365099854 RS: 199\n",
      "The random state for the max test score  of 0.5871968965836284 is 193  \n",
      "Since test score is greater than train score this model from correlation analysis with Radio is good\n",
      "Co-efficients: \n",
      "[[2.85152717]]\n",
      "Intercept: \n",
      "[13.96335567]\n",
      " Train score 0.27751048991137417 \n",
      " Test score 0.5871968965836284 \n"
     ]
    }
   ],
   "source": [
    "#Now lets apply LR on Radio alone\n",
    "radio = ideal_features[:, [1]] #Let us use standardized data as it will help saving  training time\n",
    "\n",
    "max_test_score ,random_state, hit = determine_RS(radio, label)\n",
    "\n",
    "print (\"The random state for the max test score  of %r is %r  \" % (max_test_score, random_state))\n",
    "if hit:\n",
    "    print (\"Since test score is greater than train score this model from correlation analysis with Radio is good\")\n",
    "#Conclusion: With Radio the model results are not that good as it has an accuracy of only \n",
    "apply_best_RS(random_state, radio)"
   ]
  },
  {
   "cell_type": "markdown",
   "metadata": {},
   "source": [
    "## Step 6: ANOVA in Feature Elimination"
   ]
  },
  {
   "cell_type": "code",
   "execution_count": 646,
   "metadata": {},
   "outputs": [
    {
     "data": {
      "text/plain": [
       "array([False,  True,  True, False])"
      ]
     },
     "execution_count": 646,
     "metadata": {},
     "output_type": "execute_result"
    }
   ],
   "source": [
    "features = df.iloc[:,:-1].values\n",
    "label = df.iloc[:,[-1]].values\n",
    "\n",
    "from sklearn.feature_selection import SelectPercentile\n",
    "from sklearn.feature_selection import f_regression\n",
    "# from sklearn.feature_selection import f_classif\n",
    "#Regression ----> f_regression\n",
    "#Classification --> f_classif\n",
    "\n",
    "#When working on ANOVA, the percentile value must be 50\n",
    "selectFeaturesANOVA = SelectPercentile(percentile=50, score_func=f_regression)\n",
    "\n",
    "selectFeaturesANOVA.fit(features,label)\n",
    "\n",
    "selectFeaturesANOVA.get_support()\n",
    "\n",
    "#Anova also suggest  that TV and Radio are the best features"
   ]
  },
  {
   "cell_type": "code",
   "execution_count": 647,
   "metadata": {},
   "outputs": [],
   "source": [
    "#CONCLUSION RESULTS:\n",
    "\n",
    "#*********************************************************************\n",
    "#DATASET     | Corre |  RFE   |  BE  |  SBM |  ANOVA |  ALL FEATURES|\n",
    "#*********** ********************************************************\n",
    "#Advertising |95.41 | 95.41  |95.41 |58.71 | 95.41  |   95.30      |\n",
    "#*********** ********************************************************\n",
    "#95.41 - TV and Radio\n",
    "#95.30 - Sr No , TV RAdio and Newspaper\n",
    "#58.71 - Radio"
   ]
  },
  {
   "cell_type": "code",
   "execution_count": null,
   "metadata": {},
   "outputs": [],
   "source": []
  }
 ],
 "metadata": {
  "kernelspec": {
   "display_name": "Python 3",
   "language": "python",
   "name": "python3"
  },
  "language_info": {
   "codemirror_mode": {
    "name": "ipython",
    "version": 3
   },
   "file_extension": ".py",
   "mimetype": "text/x-python",
   "name": "python",
   "nbconvert_exporter": "python",
   "pygments_lexer": "ipython3",
   "version": "3.7.4"
  }
 },
 "nbformat": 4,
 "nbformat_minor": 2
}
